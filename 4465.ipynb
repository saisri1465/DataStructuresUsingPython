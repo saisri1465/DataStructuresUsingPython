{
 "cells": [
  {
   "cell_type": "code",
   "execution_count": null,
   "id": "98078ec7",
   "metadata": {},
   "outputs": [],
   "source": [
    "'''Data structures\n",
    "#[linear ds]\n",
    "1.arrays/lists\n",
    "2.string\n",
    "3.stacks\n",
    "4.queues\n",
    "5.linkedlist\n",
    "6.hashing/hashtables\n",
    "#[non linear ds]\n",
    "7.sets\n",
    "8.trees\n",
    "9.graphs\n",
    "#[non linear abstract ds]\n",
    "10.heaps/priority queue\n",
    "11.trie-prefix\n",
    "12.recursion/backtracking\n",
    "13.searching\n",
    "14.sorting\n",
    "15.greedy/brute force'''"
   ]
  },
  {
   "cell_type": "code",
   "execution_count": 4,
   "id": "1e18784c",
   "metadata": {
    "scrolled": true
   },
   "outputs": [
    {
     "name": "stdout",
     "output_type": "stream",
     "text": [
      "10 20 25 30 40 50 10 20 25 40 \n",
      " 25 in array? True\n"
     ]
    }
   ],
   "source": [
    "'''# Array Operations\n",
    "# program to consider a list arr=[10,20,30,40] and perform insert operation and with 50 and 25 at position 2 respectively,\n",
    "delete 30 and traverse the array to fetch a number 25 is present or not.'''\n",
    "\n",
    "arr = [10,20,30,40]\n",
    "#insert\n",
    "arr.append(50)\n",
    "arr.insert(2, 25)\n",
    "#print(arr)\n",
    "for i in arr:\n",
    "    print(i, end=' ')\n",
    "#deletion\n",
    "arr.remove(30)\n",
    "arr.pop()\n",
    "#print(arr)\n",
    "#traversal\n",
    "for i in arr:\n",
    "    print(i, end=' ')\n",
    "#searching\n",
    "print(\"\\n 25 in array?\", 25 in arr)\n",
    "\n"
   ]
  },
  {
   "cell_type": "code",
   "execution_count": 3,
   "id": "2211f354",
   "metadata": {},
   "outputs": [
    {
     "name": "stdout",
     "output_type": "stream",
     "text": [
      "Enter a name:malayalam\n",
      "Palindrome\n",
      "{'m': 1}\n",
      "{'m': 1, 'a': 1}\n",
      "{'m': 1, 'a': 1, 'l': 1}\n",
      "{'m': 1, 'a': 2, 'l': 1}\n",
      "{'m': 1, 'a': 2, 'l': 1, 'y': 1}\n",
      "{'m': 1, 'a': 3, 'l': 1, 'y': 1}\n",
      "{'m': 1, 'a': 3, 'l': 2, 'y': 1}\n",
      "{'m': 1, 'a': 4, 'l': 2, 'y': 1}\n",
      "{'m': 2, 'a': 4, 'l': 2, 'y': 1}\n"
     ]
    }
   ],
   "source": [
    "'''program to check whether the given string is palindrome or not and count the palindrome characters repeated count\n",
    " str=madam\n",
    " output: {'m':2, 'a':2, 'd':1}\n",
    " str= malayalam'''\n",
    "text = input(\"Enter a name:\")\n",
    "if text==text[::-1]:\n",
    "    print(\"Palindrome\")\n",
    "else:\n",
    "    print(\"Not\")\n",
    "freq={}\n",
    "for ch in text:\n",
    "    freq[ch]= freq.get(ch,0)+1\n",
    "    print(freq)\n"
   ]
  },
  {
   "cell_type": "code",
   "execution_count": null,
   "id": "491af08b",
   "metadata": {},
   "outputs": [],
   "source": [
    "'''#searchings\n",
    "linear\n",
    "binary\n",
    "sentinel search\n",
    "fibonacci search\n",
    "interpolation search"
   ]
  },
  {
   "cell_type": "code",
   "execution_count": 1,
   "id": "2fb2014a",
   "metadata": {},
   "outputs": [
    {
     "name": "stdout",
     "output_type": "stream",
     "text": [
      "Enter the size of array:3\n",
      "Enter the elements:\n",
      "Element 1:1\n",
      "Element 2:2\n",
      "Element 3:3\n",
      "Enter the element to search:3\n",
      "\n",
      " Element 3 found at 2\n"
     ]
    }
   ],
   "source": [
    "'''#linear: \n",
    "in sorted or unsorted arrays\n",
    "[45, -9, 77, 32]\n",
    "1. arr of list of size n\n",
    "2. key for search element\n",
    "3. start with 0 index value\n",
    "4. compare arr[i]==key\n",
    "          arr[i]=key return index\n",
    "          else not(move to net index)\n",
    "5. repeat same steps till n-1\n",
    "6. if no match return -1'''\n",
    "def linear_search(arr, key):\n",
    "    for i in range(len(arr)):\n",
    "        if arr[i]==key:\n",
    "            return i\n",
    "    return -1    \n",
    "size = int(input(\"Enter the size of array:\"))\n",
    "arr=[]\n",
    "print(\"Enter the elements:\")\n",
    "for i in range(size):\n",
    "    num = int(input(f\"Element {i+1}:\"))\n",
    "    arr.append(num)\n",
    "key=int(input(\"Enter the element to search:\"))\n",
    "result=linear_search(arr,key)\n",
    "if result !=-1:\n",
    "    print(f\"\\n Element {key} found at {result}\")\n",
    "else:\n",
    "    print(f\"\\n Element {key} not found in the array\")"
   ]
  },
  {
   "cell_type": "code",
   "execution_count": null,
   "id": "a8ab402e",
   "metadata": {},
   "outputs": [],
   "source": []
  }
 ],
 "metadata": {
  "kernelspec": {
   "display_name": "Python 3 (ipykernel)",
   "language": "python",
   "name": "python3"
  },
  "language_info": {
   "codemirror_mode": {
    "name": "ipython",
    "version": 3
   },
   "file_extension": ".py",
   "mimetype": "text/x-python",
   "name": "python",
   "nbconvert_exporter": "python",
   "pygments_lexer": "ipython3",
   "version": "3.11.3"
  }
 },
 "nbformat": 4,
 "nbformat_minor": 5
}
