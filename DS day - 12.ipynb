{
 "cells": [
  {
   "cell_type": "code",
   "execution_count": 10,
   "id": "8359746c-fb77-42cb-955a-b164a2f4cbbf",
   "metadata": {},
   "outputs": [
    {
     "name": "stdin",
     "output_type": "stream",
     "text": [
      "Enter the number of elements to insert at end:  4\n",
      "Enter element 1:  9\n",
      "Enter element 2:  14\n",
      "Enter element 3:  28\n",
      "Enter element 4:  65\n"
     ]
    },
    {
     "name": "stdout",
     "output_type": "stream",
     "text": [
      "Doubly Linked List:\n",
      "9<->14<->28<->65<->None\n",
      "values for traversing backward...\n",
      "65<-->28<-->14<-->9<-->None\n"
     ]
    }
   ],
   "source": [
    "# insertion at end and backtraversal\n",
    "class Node:\n",
    "    def __init__(self, data):\n",
    "        self.data = data\n",
    "        self.prev = None\n",
    "        self.next = None\n",
    "\n",
    "class DoublyLinkedList:\n",
    "    def __init__(self):\n",
    "        self.head = None\n",
    "\n",
    "    def iae(self, data):  \n",
    "        newnode = Node(data)\n",
    "        if self.head is None:\n",
    "            self.head = newnode\n",
    "            return\n",
    "        temp=self.head\n",
    "        while temp.next:\n",
    "            temp=temp.next\n",
    "        temp.next=newnode\n",
    "        newnode.prev=temp\n",
    "      \n",
    "    def backtraverse(self):\n",
    "        print(\"values for traversing backward...\")\n",
    "        temp=self.head\n",
    "        if not temp:\n",
    "            print(\"Empty list\")\n",
    "            return\n",
    "        while temp.next:\n",
    "            temp=temp.next\n",
    "        while temp:\n",
    "            print(temp.data, end= '<-->')\n",
    "            temp= temp.prev\n",
    "        print(\"None\") \n",
    "        \n",
    "    def display(self):\n",
    "        temp = self.head\n",
    "        print(\"Doubly Linked List:\")\n",
    "        while temp:\n",
    "            print(temp.data, end=\"<->\")\n",
    "            temp = temp.next\n",
    "        print(\"None\")\n",
    "\n",
    "# Example usage\n",
    "\n",
    "dll = DoublyLinkedList()\n",
    "n = int(input(\"Enter the number of elements to insert at end: \"))\n",
    "for i in range(n):\n",
    "    val = int(input(f\"Enter element {i+1}: \"))\n",
    "    dll.iae(val)  \n",
    "dll.display()\n",
    "dll.backtraverse()\n"
   ]
  },
  {
   "cell_type": "code",
   "execution_count": 1,
   "id": "ff488874-49c3-4d55-8377-ce3b4f5513bd",
   "metadata": {},
   "outputs": [
    {
     "name": "stdin",
     "output_type": "stream",
     "text": [
      "Enter the number of elements to insert at end:  4\n",
      "Enter element 1:  9\n",
      "Enter element 2:  14\n",
      "Enter element 3:  28\n",
      "Enter element 4:  65\n"
     ]
    },
    {
     "name": "stdout",
     "output_type": "stream",
     "text": [
      "Doubly Linked List:\n",
      "65<->28<->14<->9<->None\n",
      "values for traversing backward...\n",
      "9<-->14<-->28<-->65<-->None\n"
     ]
    }
   ],
   "source": [
    "# insertion at beginning and backtraversal\n",
    "class Node:\n",
    "    def __init__(self, data):\n",
    "        self.data = data\n",
    "        self.prev = None\n",
    "        self.next = None\n",
    "\n",
    "class DoublyLinkedList:\n",
    "    def __init__(self):\n",
    "        self.head = None\n",
    "\n",
    "    def iab(self, data):  \n",
    "        newnode = Node(data)\n",
    "        newnode.next = self.head\n",
    "        if self.head:\n",
    "            self.head.prev=newnode\n",
    "        self.head=newnode\n",
    "        \n",
    "    def backtraverse(self):\n",
    "        print(\"values for traversing backward...\")\n",
    "        temp=self.head\n",
    "        if not temp:\n",
    "            print(\"Empty list\")\n",
    "            return\n",
    "        while temp.next:\n",
    "            temp=temp.next\n",
    "        while temp:\n",
    "            print(temp.data, end= '<-->')\n",
    "            temp= temp.prev\n",
    "        print(\"None\") \n",
    "        \n",
    "    def display(self):\n",
    "        temp = self.head\n",
    "        print(\"Doubly Linked List:\")\n",
    "        while temp:\n",
    "            print(temp.data, end=\"<->\")\n",
    "            temp = temp.next\n",
    "        print(\"None\")\n",
    "\n",
    "# Example usage\n",
    "\n",
    "dll = DoublyLinkedList()\n",
    "n = int(input(\"Enter the number of elements to insert at end: \"))\n",
    "for i in range(n):\n",
    "    val = int(input(f\"Enter element {i+1}: \"))\n",
    "    dll.iab(val)  \n",
    "dll.display()\n",
    "dll.backtraverse()\n"
   ]
  },
  {
   "cell_type": "code",
   "execution_count": null,
   "id": "ba7b535b-5b8a-47ee-827f-dee87f13ddc6",
   "metadata": {},
   "outputs": [],
   "source": [
    "''' delete operation on Double Linked List:\n",
    "1. insert at begin / delete at begin\n",
    "2. insert at begin / delete at end  \n",
    "3. insert at end / delete at end \n",
    "4. insert at end / delete at begin\n",
    "'''"
   ]
  },
  {
   "cell_type": "code",
   "execution_count": 3,
   "id": "c5c320ed-4a8e-4740-a6a4-edc5141eef9e",
   "metadata": {},
   "outputs": [
    {
     "name": "stdin",
     "output_type": "stream",
     "text": [
      "Enter the number of elements to insert at end:  4\n",
      "Enter element 1:  9\n",
      "Enter element 2:  14\n",
      "Enter element 3:  28\n",
      "Enter element 4:  65\n"
     ]
    },
    {
     "name": "stdout",
     "output_type": "stream",
     "text": [
      "Doubly Linked List:\n",
      "65<->28<->14<->9<->None\n"
     ]
    },
    {
     "name": "stdin",
     "output_type": "stream",
     "text": [
      "\n",
      " how many times you want to perform delete operation: 2\n"
     ]
    },
    {
     "name": "stdout",
     "output_type": "stream",
     "text": [
      "Deleted: 65\n",
      "Deleted: 28\n",
      "Doubly Linked List:\n",
      "14<->9<->None\n"
     ]
    }
   ],
   "source": [
    "# insertion at beginning and deletion at beginning\n",
    "class Node:\n",
    "    def __init__(self, data):\n",
    "        self.data = data\n",
    "        self.prev = None\n",
    "        self.next = None\n",
    "\n",
    "class DoublyLinkedList:\n",
    "    def __init__(self):\n",
    "        self.head = None\n",
    "\n",
    "    def iab(self, data):  \n",
    "        newnode = Node(data)\n",
    "        newnode.next = self.head\n",
    "        if self.head:\n",
    "            self.head.prev=newnode\n",
    "        self.head=newnode\n",
    "\n",
    "    def dab(self):\n",
    "        if not self.head:\n",
    "            print(\"Can't perform delete in a empty list...\")\n",
    "        print(f\"Deleted: {self.head.data}\")\n",
    "        self.head=self.head.next\n",
    "        if self.head:\n",
    "            self.head.prev=None\n",
    "        \n",
    "    def display(self):\n",
    "        temp = self.head\n",
    "        print(\"Doubly Linked List:\")\n",
    "        while temp:\n",
    "            print(temp.data, end=\"<->\")\n",
    "            temp = temp.next\n",
    "        print(\"None\")\n",
    "\n",
    "# Example usage\n",
    "\n",
    "dll = DoublyLinkedList()\n",
    "n = int(input(\"Enter the number of elements to insert at end: \"))\n",
    "for i in range(n):\n",
    "    val = int(input(f\"Enter element {i+1}: \"))\n",
    "    dll.iab(val)  \n",
    "dll.display()\n",
    "d= int(input(\"\\n how many times you want to perform delete operation:\"))\n",
    "for _ in range(d):\n",
    "    dll.dab()\n",
    "dll.display()"
   ]
  },
  {
   "cell_type": "code",
   "execution_count": 9,
   "id": "400d7d74-31d6-4e5c-9111-f669595b1829",
   "metadata": {},
   "outputs": [
    {
     "name": "stdin",
     "output_type": "stream",
     "text": [
      "Enter the number of elements to insert at end:  5\n",
      "Enter element 1:  2\n",
      "Enter element 2:  3\n",
      "Enter element 3:  4\n",
      "Enter element 4:  5\n",
      "Enter element 5:  6\n"
     ]
    },
    {
     "name": "stdout",
     "output_type": "stream",
     "text": [
      "Doubly Linked List:\n",
      "6<->5<->4<->3<->2<->None\n"
     ]
    },
    {
     "name": "stdin",
     "output_type": "stream",
     "text": [
      "\n",
      " how many times you want to perform delete operation: 2\n"
     ]
    },
    {
     "name": "stdout",
     "output_type": "stream",
     "text": [
      "Deleted: 2\n",
      "Deleted: 3\n",
      "Doubly Linked List:\n",
      "6<->5<->4<->None\n"
     ]
    }
   ],
   "source": [
    "# insertion at beginning and deletion at end\n",
    "class Node:\n",
    "    def __init__(self, data):\n",
    "        self.data = data\n",
    "        self.prev = None\n",
    "        self.next = None\n",
    "\n",
    "class DoublyLinkedList:\n",
    "    def __init__(self):\n",
    "        self.head = None\n",
    "\n",
    "    def iab(self, data):  \n",
    "        newnode = Node(data)\n",
    "        newnode.next = self.head\n",
    "        if self.head:\n",
    "            self.head.prev=newnode\n",
    "        self.head=newnode\n",
    "\n",
    "    def dae(self):\n",
    "        if self.head is None:\n",
    "            print(\"Can't perform delete in a empty list...\")\n",
    "            return\n",
    "        temp = self.head\n",
    "        while temp.next:\n",
    "            temp=temp.next\n",
    "        print(f\"Deleted: {temp.data}\")\n",
    "        if temp.prev:\n",
    "            temp.prev.next= None\n",
    "        else:\n",
    "            self.head=None\n",
    "            \n",
    "    def display(self):\n",
    "        temp = self.head\n",
    "        print(\"Doubly Linked List:\")\n",
    "        while temp:\n",
    "            print(temp.data, end=\"<->\")\n",
    "            temp = temp.next\n",
    "        print(\"None\")\n",
    "\n",
    "# Example usage\n",
    "\n",
    "dll = DoublyLinkedList()\n",
    "n = int(input(\"Enter the number of elements to insert at end: \"))\n",
    "for i in range(n):\n",
    "    val = int(input(f\"Enter element {i+1}: \"))\n",
    "    dll.iab(val)  \n",
    "dll.display()\n",
    "d= int(input(\"\\n how many times you want to perform delete operation:\"))\n",
    "for _ in range(d):\n",
    "    dll.dae()\n",
    "dll.display()"
   ]
  },
  {
   "cell_type": "code",
   "execution_count": 11,
   "id": "0645b13c-d264-4c2a-b453-257fdea4222c",
   "metadata": {},
   "outputs": [
    {
     "name": "stdin",
     "output_type": "stream",
     "text": [
      "Enter the number of elements to insert at end:  4\n",
      "Enter element 1:  12\n",
      "Enter element 2:  13\n",
      "Enter element 3:  14\n",
      "Enter element 4:  15\n"
     ]
    },
    {
     "name": "stdout",
     "output_type": "stream",
     "text": [
      "Doubly Linked List:\n",
      "12<->13<->14<->15<->None\n"
     ]
    },
    {
     "name": "stdin",
     "output_type": "stream",
     "text": [
      "\n",
      " how many times you want to perform delete operation: 2\n"
     ]
    },
    {
     "name": "stdout",
     "output_type": "stream",
     "text": [
      "Deleted: 15\n",
      "Deleted: 14\n",
      "Doubly Linked List:\n",
      "12<->13<->None\n"
     ]
    }
   ],
   "source": [
    "# insertion at end and deletion at end  \n",
    "class Node:\n",
    "    def __init__(self, data):\n",
    "        self.data = data\n",
    "        self.prev = None\n",
    "        self.next = None\n",
    "\n",
    "class DoublyLinkedList:\n",
    "    def __init__(self):\n",
    "        self.head = None\n",
    "\n",
    "    def iae(self, data):  \n",
    "        newnode = Node(data)\n",
    "        if not self.head:\n",
    "            self.head= newnode\n",
    "            return\n",
    "        temp= self.head\n",
    "        while temp.next:\n",
    "            temp=temp.next\n",
    "        temp.next= newnode\n",
    "        newnode.prev= temp\n",
    "      \n",
    "    def dae(self):\n",
    "        if self.head is None:\n",
    "            print(\"Can't perform delete in a empty list...\")\n",
    "            return\n",
    "        temp = self.head\n",
    "        while temp.next:\n",
    "            temp=temp.next\n",
    "        print(f\"Deleted: {temp.data}\")\n",
    "        if temp.prev:\n",
    "            temp.prev.next= None\n",
    "        else:\n",
    "            self.head=None\n",
    "            \n",
    "    def display(self):\n",
    "        temp = self.head\n",
    "        print(\"Doubly Linked List:\")\n",
    "        while temp:\n",
    "            print(temp.data, end=\"<->\")\n",
    "            temp = temp.next\n",
    "        print(\"None\")\n",
    "\n",
    "# Example usage\n",
    "\n",
    "dll = DoublyLinkedList()\n",
    "n = int(input(\"Enter the number of elements to insert at end: \"))\n",
    "for i in range(n):\n",
    "    val = int(input(f\"Enter element {i+1}: \"))\n",
    "    dll.iae(val)  \n",
    "dll.display()\n",
    "d= int(input(\"\\n how many times you want to perform delete operation:\"))\n",
    "for _ in range(d):\n",
    "    dll.dae()\n",
    "dll.display()"
   ]
  },
  {
   "cell_type": "code",
   "execution_count": 15,
   "id": "da4d8fe1-1b2a-4dd6-bc7d-6ddf083ed3fb",
   "metadata": {},
   "outputs": [
    {
     "name": "stdin",
     "output_type": "stream",
     "text": [
      "Enter the number of elements to insert at end:  4\n",
      "Enter element 1:  55\n",
      "Enter element 2:  66\n",
      "Enter element 3:  77\n",
      "Enter element 4:  88\n"
     ]
    },
    {
     "name": "stdout",
     "output_type": "stream",
     "text": [
      "Doubly Linked List:\n",
      "55<->66<->77<->88<->None\n"
     ]
    },
    {
     "name": "stdin",
     "output_type": "stream",
     "text": [
      "\n",
      " how many times you want to perform delete operation: 2\n"
     ]
    },
    {
     "name": "stdout",
     "output_type": "stream",
     "text": [
      "Deleted: 55\n",
      "Deleted: 66\n",
      "Doubly Linked List:\n",
      "77<->88<->None\n"
     ]
    }
   ],
   "source": [
    "# insertion at end / deletion at beginning\n",
    "class Node:\n",
    "    def __init__(self, data):\n",
    "        self.data = data\n",
    "        self.prev = None\n",
    "        self.next = None\n",
    "\n",
    "class DoublyLinkedList:\n",
    "    def __init__(self):\n",
    "        self.head = None\n",
    "\n",
    "    def iae(self, data):  \n",
    "        newnode = Node(data)\n",
    "        if not self.head:\n",
    "            self.head= newnode\n",
    "            return\n",
    "        temp= self.head\n",
    "        while temp.next:\n",
    "            temp=temp.next\n",
    "        temp.next= newnode\n",
    "        newnode.prev= temp\n",
    "      \n",
    "   \n",
    "    def dab(self):\n",
    "        if not self.head:\n",
    "            print(\"Can't perform delete in a empty list...\")\n",
    "        print(f\"Deleted: {self.head.data}\")\n",
    "        self.head=self.head.next\n",
    "        if self.head:\n",
    "            self.head.prev=None\n",
    "            \n",
    "    def display(self):\n",
    "        temp = self.head\n",
    "        print(\"Doubly Linked List:\")\n",
    "        while temp:\n",
    "            print(temp.data, end=\"<->\")\n",
    "            temp = temp.next\n",
    "        print(\"None\")\n",
    "\n",
    "# Example usage\n",
    "\n",
    "dll = DoublyLinkedList()\n",
    "n = int(input(\"Enter the number of elements to insert at end: \"))\n",
    "for i in range(n):\n",
    "    val = int(input(f\"Enter element {i+1}: \"))\n",
    "    dll.iae(val)  \n",
    "dll.display()\n",
    "d= int(input(\"\\n how many times you want to perform delete operation:\"))\n",
    "for _ in range(d):\n",
    "    dll.dab()\n",
    "dll.display()"
   ]
  },
  {
   "cell_type": "code",
   "execution_count": 37,
   "id": "b993a8dd-b1cc-49db-a562-c3d772ae3207",
   "metadata": {},
   "outputs": [
    {
     "name": "stdin",
     "output_type": "stream",
     "text": [
      "Enter the number of elements to insert at end:  4\n",
      "Enter element 1:  2\n",
      "Enter element 2:  4\n",
      "Enter element 3:  6\n",
      "Enter element 4:  8\n"
     ]
    },
    {
     "name": "stdout",
     "output_type": "stream",
     "text": [
      "Doubly Linked List:\n",
      "2 <--> 4 <--> 6 <--> 8 <--> None\n"
     ]
    },
    {
     "name": "stdin",
     "output_type": "stream",
     "text": [
      "Enter value to delete:  2\n"
     ]
    },
    {
     "name": "stdout",
     "output_type": "stream",
     "text": [
      "Deleted:2\n",
      "Doubly Linked List:\n",
      "4 <--> 6 <--> 8 <--> None\n"
     ]
    },
    {
     "name": "stdin",
     "output_type": "stream",
     "text": [
      "Enter value to delete:  4\n"
     ]
    },
    {
     "name": "stdout",
     "output_type": "stream",
     "text": [
      "Deleted:4\n",
      "Doubly Linked List:\n",
      "6 <--> 8 <--> None\n"
     ]
    }
   ],
   "source": [
    "# delete by value on double Linked List\n",
    "class Node:\n",
    "    def __init__(self, data):\n",
    "        self.data = data\n",
    "        self.prev = None\n",
    "        self.next = None\n",
    "class DoublyLinkedList:\n",
    "    def __init__(self):\n",
    "        self.head = None\n",
    "    def iae(self, data):\n",
    "        newnode = Node(data)\n",
    "        if self.head is None:\n",
    "            self.head = newnode\n",
    "            return\n",
    "        temp = self.head\n",
    "        while temp.next:\n",
    "            temp = temp.next\n",
    "        temp.next = newnode\n",
    "        newnode.prev = temp\n",
    "    def dbv(self,value):\n",
    "        temp=self.head\n",
    "        while temp:\n",
    "            if temp.data == value:\n",
    "                print(f\"Deleted:{temp.data}\")\n",
    "                if temp.prev:\n",
    "                    temp.prev.next=temp.next\n",
    "                else:\n",
    "                    self.head=temp.next\n",
    "                if temp.next:\n",
    "                    temp.next.prev=temp.prev\n",
    "                return\n",
    "            temp=temp.next\n",
    "        print(f\"{value} not found in the list\")\n",
    "    def display(self):\n",
    "        temp = self.head\n",
    "        print(\"Doubly Linked List:\")\n",
    "        while temp:\n",
    "            print(temp.data, end=\" <--> \")\n",
    "            temp = temp.next\n",
    "        print(\"None\")\n",
    "dll = DoublyLinkedList()\n",
    "n = int(input(\"Enter the number of elements to insert at end: \"))\n",
    "for i in range(n):\n",
    "    value = int(input(f\"Enter element {i + 1}: \"))\n",
    "    dll.iae(value)\n",
    "dll.display()\n",
    "for i in range(d):\n",
    "    val = int(input(f\"Enter value to delete: \"))\n",
    "    dll.dbv(val)\n",
    "    dll.display()\n"
   ]
  },
  {
   "cell_type": "code",
   "execution_count": null,
   "id": "fe75afde-a181-4c59-813d-c31fd16819a1",
   "metadata": {},
   "outputs": [],
   "source": [
    "''' Insertion at end code, check the duplicates in a DLL and print the count of frequency\n",
    "input=6\n",
    "Enter element 1: 10\n",
    "Enter element 2: 20\n",
    "Enter element 3: 30\n",
    "Enter element 4: 20\n",
    "Enter element 5: 10\n",
    "Enter element 6: 40\n",
    "output:\n",
    "DLL \n",
    "10<-->20<-->30<-->20<-->10<-->40\n",
    "duplicate values in DLL:\n",
    "10 appears 2 times\n",
    "20 appears 2 times\n",
    "'''"
   ]
  },
  {
   "cell_type": "code",
   "execution_count": null,
   "id": "78e3c2f5-7a52-4530-8dbe-bf700f6a98b1",
   "metadata": {},
   "outputs": [],
   "source": []
  }
 ],
 "metadata": {
  "kernelspec": {
   "display_name": "Python 3 (ipykernel)",
   "language": "python",
   "name": "python3"
  },
  "language_info": {
   "codemirror_mode": {
    "name": "ipython",
    "version": 3
   },
   "file_extension": ".py",
   "mimetype": "text/x-python",
   "name": "python",
   "nbconvert_exporter": "python",
   "pygments_lexer": "ipython3",
   "version": "3.12.7"
  }
 },
 "nbformat": 4,
 "nbformat_minor": 5
}
