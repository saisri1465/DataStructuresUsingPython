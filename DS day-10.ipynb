{
 "cells": [
  {
   "cell_type": "code",
   "execution_count": null,
   "id": "83a92655-e9c9-48a6-9876-acbcde1c5411",
   "metadata": {},
   "outputs": [],
   "source": [
    "''' \n",
    "Deleting operations\n",
    "1. at value\n",
    "2. at beginning\n",
    "3. at end\n",
    "\n",
    "head-->10-->20-->30-->40-->null\n",
    "\n",
    "    # delete operation by value\n",
    "    # delete operation at beginning\n",
    "    # delete operation at end \n",
    "'''"
   ]
  },
  {
   "cell_type": "code",
   "execution_count": 1,
   "id": "0db1e42d-e4af-4f23-a516-8c92ac59f5d4",
   "metadata": {},
   "outputs": [
    {
     "name": "stdout",
     "output_type": "stream",
     "text": [
      "\n",
      "LinkedList-Insert at position...\n",
      "1.Insert\n",
      "2.Display\n",
      "3.Delete\n",
      "4.Exit\n"
     ]
    },
    {
     "name": "stdin",
     "output_type": "stream",
     "text": [
      "Enter your choice: 1\n",
      "Enter a value to insert: 10\n"
     ]
    },
    {
     "name": "stdout",
     "output_type": "stream",
     "text": [
      "\n",
      "LinkedList-Insert at position...\n",
      "1.Insert\n",
      "2.Display\n",
      "3.Delete\n",
      "4.Exit\n"
     ]
    },
    {
     "name": "stdin",
     "output_type": "stream",
     "text": [
      "Enter your choice: 1\n",
      "Enter a value to insert: 20\n"
     ]
    },
    {
     "name": "stdout",
     "output_type": "stream",
     "text": [
      "\n",
      "LinkedList-Insert at position...\n",
      "1.Insert\n",
      "2.Display\n",
      "3.Delete\n",
      "4.Exit\n"
     ]
    },
    {
     "name": "stdin",
     "output_type": "stream",
     "text": [
      "Enter your choice: 2\n"
     ]
    },
    {
     "name": "stdout",
     "output_type": "stream",
     "text": [
      "10---20---None\n",
      "\n",
      "LinkedList-Insert at position...\n",
      "1.Insert\n",
      "2.Display\n",
      "3.Delete\n",
      "4.Exit\n"
     ]
    },
    {
     "name": "stdin",
     "output_type": "stream",
     "text": [
      "Enter your choice: 3\n",
      "Enter the value to delete: 10\n"
     ]
    },
    {
     "name": "stdout",
     "output_type": "stream",
     "text": [
      "10 deleted from the list\n",
      "\n",
      "LinkedList-Insert at position...\n",
      "1.Insert\n",
      "2.Display\n",
      "3.Delete\n",
      "4.Exit\n"
     ]
    },
    {
     "name": "stdin",
     "output_type": "stream",
     "text": [
      "Enter your choice: 2\n"
     ]
    },
    {
     "name": "stdout",
     "output_type": "stream",
     "text": [
      "20---None\n",
      "\n",
      "LinkedList-Insert at position...\n",
      "1.Insert\n",
      "2.Display\n",
      "3.Delete\n",
      "4.Exit\n"
     ]
    },
    {
     "name": "stdin",
     "output_type": "stream",
     "text": [
      "Enter your choice: 3\n",
      "Enter the value to delete: 30\n"
     ]
    },
    {
     "name": "stdout",
     "output_type": "stream",
     "text": [
      "30 not found in the LL\n",
      "\n",
      "LinkedList-Insert at position...\n",
      "1.Insert\n",
      "2.Display\n",
      "3.Delete\n",
      "4.Exit\n"
     ]
    },
    {
     "name": "stdin",
     "output_type": "stream",
     "text": [
      "Enter your choice: 4\n"
     ]
    },
    {
     "name": "stdout",
     "output_type": "stream",
     "text": [
      "Exit\n"
     ]
    }
   ],
   "source": [
    "class Node:\n",
    "    def __init__(self, data):\n",
    "        self.data = data\n",
    "        self.next = None\n",
    "\n",
    "class LinkedList:\n",
    "    def __init__(self):\n",
    "        self.head = None\n",
    "\n",
    "    def iae(self, data):\n",
    "        newnode = Node(data)\n",
    "        if not self.head:\n",
    "            self.head = newnode\n",
    "            return\n",
    "        current = self.head\n",
    "        while current.next:\n",
    "            current = current.next  # Fixed typo here\n",
    "        current.next = newnode\n",
    "\n",
    "    def deletevalue(self, key):\n",
    "        current = self.head\n",
    "        if not current:\n",
    "            print(\"Empty LL\")\n",
    "            return\n",
    "        if current.data == key:\n",
    "            self.head = current.next\n",
    "            print(f\"{key} deleted from the list\")\n",
    "            return \n",
    "        prev = None\n",
    "        while current and current.data != key:\n",
    "            prev = current\n",
    "            current = current.next\n",
    "        if not current:\n",
    "            print(f\"{key} not found in the LL\")\n",
    "            return\n",
    "        prev.next = current.next\n",
    "        print(f\"{key} deleted from the LL\")\n",
    "\n",
    "    def display(self):\n",
    "        current = self.head\n",
    "        if not current:\n",
    "            print(\"LL-Empty\")\n",
    "            return\n",
    "        while current:\n",
    "            print(current.data, end=\"---\")\n",
    "            current = current.next\n",
    "        print(\"None\")\n",
    "\n",
    "ll = LinkedList()\n",
    "while True:\n",
    "    print(\"\\nLinkedList-Insert at position...\")\n",
    "    print(\"1.Insert\")\n",
    "    print(\"2.Display\")\n",
    "    print(\"3.Delete\")\n",
    "    print(\"4.Exit\")\n",
    "    choice = input(\"Enter your choice:\")\n",
    "    if choice == '1':\n",
    "        data = int(input(\"Enter a value to insert:\"))\n",
    "        ll.iae(data)\n",
    "    elif choice == '2':\n",
    "        ll.display()\n",
    "    elif choice == '3':\n",
    "        val = int(input(\"Enter the value to delete:\"))\n",
    "        ll.deletevalue(val)  # Fixed method call here\n",
    "    elif choice == '4':\n",
    "        print(\"Exit\")\n",
    "        break\n",
    "    else:\n",
    "        print(\"Enter a valid choice (1/2/3/4):\")\n"
   ]
  },
  {
   "cell_type": "code",
   "execution_count": 5,
   "id": "bd091ead-15fb-409a-8e72-7bc398f53bb2",
   "metadata": {},
   "outputs": [
    {
     "name": "stdout",
     "output_type": "stream",
     "text": [
      "\n",
      "LinkedList-Insert at position...\n",
      "1.Insert\n",
      "2.Display\n",
      "3.Delete from beginning\n",
      "4.Exit\n"
     ]
    },
    {
     "name": "stdin",
     "output_type": "stream",
     "text": [
      "Enter your choice: 1\n",
      "Enter a value to insert: 10\n"
     ]
    },
    {
     "name": "stdout",
     "output_type": "stream",
     "text": [
      "\n",
      "LinkedList-Insert at position...\n",
      "1.Insert\n",
      "2.Display\n",
      "3.Delete from beginning\n",
      "4.Exit\n"
     ]
    },
    {
     "name": "stdin",
     "output_type": "stream",
     "text": [
      "Enter your choice: 1\n",
      "Enter a value to insert: 20\n"
     ]
    },
    {
     "name": "stdout",
     "output_type": "stream",
     "text": [
      "\n",
      "LinkedList-Insert at position...\n",
      "1.Insert\n",
      "2.Display\n",
      "3.Delete from beginning\n",
      "4.Exit\n"
     ]
    },
    {
     "name": "stdin",
     "output_type": "stream",
     "text": [
      "Enter your choice: 2\n"
     ]
    },
    {
     "name": "stdout",
     "output_type": "stream",
     "text": [
      "10---20---None\n",
      "\n",
      "LinkedList-Insert at position...\n",
      "1.Insert\n",
      "2.Display\n",
      "3.Delete from beginning\n",
      "4.Exit\n"
     ]
    },
    {
     "name": "stdin",
     "output_type": "stream",
     "text": [
      "Enter your choice: 3\n"
     ]
    },
    {
     "name": "stdout",
     "output_type": "stream",
     "text": [
      "Deleted node from beginning: 10\n",
      "\n",
      "LinkedList-Insert at position...\n",
      "1.Insert\n",
      "2.Display\n",
      "3.Delete from beginning\n",
      "4.Exit\n"
     ]
    },
    {
     "name": "stdin",
     "output_type": "stream",
     "text": [
      "Enter your choice: 10\n"
     ]
    },
    {
     "name": "stdout",
     "output_type": "stream",
     "text": [
      "Enter a valid choice (1/2/3/4):\n",
      "\n",
      "LinkedList-Insert at position...\n",
      "1.Insert\n",
      "2.Display\n",
      "3.Delete from beginning\n",
      "4.Exit\n"
     ]
    },
    {
     "name": "stdin",
     "output_type": "stream",
     "text": [
      "Enter your choice: 2\n"
     ]
    },
    {
     "name": "stdout",
     "output_type": "stream",
     "text": [
      "20---None\n",
      "\n",
      "LinkedList-Insert at position...\n",
      "1.Insert\n",
      "2.Display\n",
      "3.Delete from beginning\n",
      "4.Exit\n"
     ]
    },
    {
     "name": "stdin",
     "output_type": "stream",
     "text": [
      "Enter your choice: 4\n"
     ]
    },
    {
     "name": "stdout",
     "output_type": "stream",
     "text": [
      "Exit\n"
     ]
    }
   ],
   "source": [
    "class Node:\n",
    "    def __init__(self, data):\n",
    "        self.data = data\n",
    "        self.next = None\n",
    "\n",
    "class LinkedList:\n",
    "    def __init__(self):\n",
    "        self.head = None\n",
    "\n",
    "    def iae(self, data):\n",
    "        newnode = Node(data)\n",
    "        if not self.head:\n",
    "            self.head = newnode\n",
    "            return\n",
    "        current = self.head\n",
    "        while current.next:\n",
    "            current = current.next  # fixed typo\n",
    "        current.next = newnode\n",
    "\n",
    "    def deletebegin(self):\n",
    "        if self.head is None:\n",
    "            print(\"Empty-LL\")\n",
    "        else:\n",
    "            print(\"Deleted node from beginning:\", self.head.data)\n",
    "            self.head = self.head.next\n",
    "\n",
    "    def display(self):\n",
    "        current = self.head\n",
    "        if not current:\n",
    "            print(\"LL-Empty\")\n",
    "            return\n",
    "        while current:\n",
    "            print(current.data, end=\"---\")\n",
    "            current = current.next\n",
    "        print(\"None\")\n",
    "\n",
    "ll = LinkedList()\n",
    "while True:\n",
    "    print(\"\\nLinkedList-Insert at position...\")\n",
    "    print(\"1.Insert\")\n",
    "    print(\"2.Display\")\n",
    "    print(\"3.Delete from beginning\")\n",
    "    print(\"4.Exit\")\n",
    "    choice = input(\"Enter your choice:\")\n",
    "    if choice == '1':\n",
    "        data = int(input(\"Enter a value to insert:\"))\n",
    "        ll.iae(data)\n",
    "    elif choice == '2':\n",
    "        ll.display()\n",
    "    elif choice == '3':\n",
    "        ll.deletebegin()  # No input needed, deletes first node\n",
    "    elif choice == '4':\n",
    "        print(\"Exit\")\n",
    "        break\n",
    "    else:\n",
    "        print(\"Enter a valid choice (1/2/3/4):\")\n"
   ]
  },
  {
   "cell_type": "code",
   "execution_count": 11,
   "id": "d8349126-32b7-4d72-8336-9d1cc6f09d42",
   "metadata": {},
   "outputs": [
    {
     "name": "stdout",
     "output_type": "stream",
     "text": [
      "\n",
      "LinkedList Operations:\n",
      "1. Insert at end\n",
      "2. Display\n",
      "3. Delete from end\n",
      "4. Exit\n"
     ]
    },
    {
     "name": "stdin",
     "output_type": "stream",
     "text": [
      "Enter your choice:  1\n",
      "Enter a value to insert:  10\n"
     ]
    },
    {
     "name": "stdout",
     "output_type": "stream",
     "text": [
      "\n",
      "LinkedList Operations:\n",
      "1. Insert at end\n",
      "2. Display\n",
      "3. Delete from end\n",
      "4. Exit\n"
     ]
    },
    {
     "name": "stdin",
     "output_type": "stream",
     "text": [
      "Enter your choice:  1\n",
      "Enter a value to insert:  20\n"
     ]
    },
    {
     "name": "stdout",
     "output_type": "stream",
     "text": [
      "\n",
      "LinkedList Operations:\n",
      "1. Insert at end\n",
      "2. Display\n",
      "3. Delete from end\n",
      "4. Exit\n"
     ]
    },
    {
     "name": "stdin",
     "output_type": "stream",
     "text": [
      "Enter your choice:  1\n",
      "Enter a value to insert:  30\n"
     ]
    },
    {
     "name": "stdout",
     "output_type": "stream",
     "text": [
      "\n",
      "LinkedList Operations:\n",
      "1. Insert at end\n",
      "2. Display\n",
      "3. Delete from end\n",
      "4. Exit\n"
     ]
    },
    {
     "name": "stdin",
     "output_type": "stream",
     "text": [
      "Enter your choice:  2\n"
     ]
    },
    {
     "name": "stdout",
     "output_type": "stream",
     "text": [
      "10---20---30---None\n",
      "\n",
      "LinkedList Operations:\n",
      "1. Insert at end\n",
      "2. Display\n",
      "3. Delete from end\n",
      "4. Exit\n"
     ]
    },
    {
     "name": "stdin",
     "output_type": "stream",
     "text": [
      "Enter your choice:  3\n"
     ]
    },
    {
     "name": "stdout",
     "output_type": "stream",
     "text": [
      "Deleted last node: 30\n",
      "\n",
      "LinkedList Operations:\n",
      "1. Insert at end\n",
      "2. Display\n",
      "3. Delete from end\n",
      "4. Exit\n"
     ]
    },
    {
     "name": "stdin",
     "output_type": "stream",
     "text": [
      "Enter your choice:  4\n"
     ]
    },
    {
     "name": "stdout",
     "output_type": "stream",
     "text": [
      "Exit...\n"
     ]
    }
   ],
   "source": [
    "# delete operation at end\n",
    "class Node:\n",
    "    def __init__(self, data):\n",
    "        self.data = data\n",
    "        self.next = None\n",
    "\n",
    "class LinkedList:\n",
    "    def __init__(self):\n",
    "        self.head = None\n",
    "\n",
    "    def iae(self, data):  # Insert at end\n",
    "        newnode = Node(data)\n",
    "        if not self.head:\n",
    "            self.head = newnode\n",
    "            return\n",
    "        current = self.head\n",
    "        while current.next:\n",
    "            current = current.next\n",
    "        current.next = newnode\n",
    "\n",
    "    def deleteend(self):\n",
    "        if self.head is None:\n",
    "            print(\"Empty-LL\")\n",
    "            return\n",
    "        if self.head.next is None: \n",
    "            print(f\"Deleted last node: {self.head.data}\")\n",
    "            self.head = None\n",
    "            return\n",
    "        current = self.head\n",
    "        while current.next.next:\n",
    "            current = current.next\n",
    "        print(f\"Deleted last node: {current.next.data}\")\n",
    "        current.next=None\n",
    "    def display(self):\n",
    "        if not self.head:\n",
    "            print(\"LL-Empty\")\n",
    "            return\n",
    "        current = self.head\n",
    "        while current:\n",
    "            print(current.data, end=\"---\")\n",
    "            current = current.next\n",
    "        print(\"None\")\n",
    "\n",
    "# Main loop\n",
    "ll = LinkedList()\n",
    "while True:\n",
    "    print(\"\\nLinkedList Operations:\")\n",
    "    print(\"1. Insert at end\")\n",
    "    print(\"2. Display\")\n",
    "    print(\"3. Delete from end\")\n",
    "    print(\"4. Exit\")\n",
    "    choice = input(\"Enter your choice: \")\n",
    "\n",
    "    if choice == '1':\n",
    "        data = int(input(\"Enter a value to insert: \"))\n",
    "        ll.iae(data)\n",
    "    elif choice == '2':\n",
    "        ll.display()\n",
    "    elif choice == '3':\n",
    "        ll.deleteend()\n",
    "    elif choice == '4':\n",
    "        print(\"Exit...\")\n",
    "        break\n",
    "    else:\n",
    "        print(\"Invalid choice! Please enter 1, 2, 3, or 4.\")"
   ]
  },
  {
   "cell_type": "code",
   "execution_count": 31,
   "id": "6097ef27-5e96-44f7-a46b-7698049e7983",
   "metadata": {},
   "outputs": [
    {
     "name": "stdout",
     "output_type": "stream",
     "text": [
      "\n",
      "------ATM Transaction Menu-------\n",
      "1. Deposit\n",
      "2. Withdraw\n",
      "3. History\n",
      "4. Exit\n"
     ]
    },
    {
     "name": "stdin",
     "output_type": "stream",
     "text": [
      "Enter your choice: 1\n",
      "Enter amount to deposit: 2000\n"
     ]
    },
    {
     "name": "stdout",
     "output_type": "stream",
     "text": [
      "\n",
      "------ATM Transaction Menu-------\n",
      "1. Deposit\n",
      "2. Withdraw\n",
      "3. History\n",
      "4. Exit\n"
     ]
    },
    {
     "name": "stdin",
     "output_type": "stream",
     "text": [
      "Enter your choice: 1\n",
      "Enter amount to deposit: 2000\n"
     ]
    },
    {
     "name": "stdout",
     "output_type": "stream",
     "text": [
      "Deposit of Rs.2000.0 recorded...\n",
      "\n",
      "------ATM Transaction Menu-------\n",
      "1. Deposit\n",
      "2. Withdraw\n",
      "3. History\n",
      "4. Exit\n"
     ]
    },
    {
     "name": "stdin",
     "output_type": "stream",
     "text": [
      "Enter your choice: 2\n",
      "Enter amount to withdraw: 1000\n"
     ]
    },
    {
     "name": "stdout",
     "output_type": "stream",
     "text": [
      "Withdraw of Rs.1000.0 recorded...\n",
      "\n",
      "------ATM Transaction Menu-------\n",
      "1. Deposit\n",
      "2. Withdraw\n",
      "3. History\n",
      "4. Exit\n"
     ]
    },
    {
     "name": "stdin",
     "output_type": "stream",
     "text": [
      "Enter your choice: 3\n"
     ]
    },
    {
     "name": "stdout",
     "output_type": "stream",
     "text": [
      "\n",
      " Transaction History\n",
      "1, Deposit- Rs2000.0\n",
      "2, Deposit- Rs2000.0\n",
      "3, Withdraw- Rs1000.0\n",
      "\n",
      "------ATM Transaction Menu-------\n",
      "1. Deposit\n",
      "2. Withdraw\n",
      "3. History\n",
      "4. Exit\n"
     ]
    },
    {
     "name": "stdin",
     "output_type": "stream",
     "text": [
      "Enter your choice: 4\n"
     ]
    },
    {
     "name": "stdout",
     "output_type": "stream",
     "text": [
      "End of transaction ...Exit!!!\n"
     ]
    }
   ],
   "source": [
    "#Transactions\n",
    "class Transaction:\n",
    "    def __init__(self, transaction_type, amount):\n",
    "        self.type= transaction_type\n",
    "        self.amount=amount\n",
    "        self.next=None\n",
    "class TransactionHistory:\n",
    "    def __init__(self):\n",
    "        self.head=None\n",
    "    def add_transaction(self, transaction_type, amount):\n",
    "        nn=Transaction(transaction_type, amount)\n",
    "        if not self.head:\n",
    "            self.head=nn\n",
    "        else:\n",
    "            current= self.head\n",
    "            while current.next:\n",
    "                current=current.next\n",
    "            current.next=nn\n",
    "            print(f\"{transaction_type} of Rs.{amount} recorded...\")\n",
    "    def show_history(self):\n",
    "        if not self.head:\n",
    "            print(\"No Transaction found....\")\n",
    "            return\n",
    "        print(\"\\n Transaction History\")\n",
    "        current=self.head\n",
    "        count=1\n",
    "        while current:\n",
    "            print(f\"{count}, {current.type}- Rs{current.amount}\")\n",
    "            current=current.next\n",
    "            count+=1\n",
    "# Main menu\n",
    "history= TransactionHistory()\n",
    "while True:\n",
    "    print(\"\\n------ATM Transaction Menu-------\")\n",
    "    print(\"1. Deposit\")\n",
    "    print(\"2. Withdraw\")\n",
    "    print(\"3. History\")\n",
    "    print(\"4. Exit\")\n",
    "    choice=input(\"Enter your choice:\")\n",
    "    if choice=='1':\n",
    "        amount= float(input(\"Enter amount to deposit:\"))\n",
    "        history.add_transaction(\"Deposit\", amount)\n",
    "    elif choice=='2':\n",
    "        amount= float(input(\"Enter amount to withdraw:\"))\n",
    "        history.add_transaction(\"Withdraw\", amount)\n",
    "    elif choice=='3':\n",
    "        history.show_history()\n",
    "    elif choice=='4':\n",
    "        print(\"End of transaction ...Exit!!!\")\n",
    "        break\n",
    "    else:\n",
    "        print(\"choose 1/2/3/4 only....\")"
   ]
  },
  {
   "cell_type": "code",
   "execution_count": 43,
   "id": "64bb2045-eb0a-4863-bcdc-b08ef114b02f",
   "metadata": {},
   "outputs": [
    {
     "name": "stdout",
     "output_type": "stream",
     "text": [
      "Original list:\n",
      "11,22,33,44,55,null\n",
      "Reversed list:\n",
      "55,44,33,22,11,null\n"
     ]
    }
   ],
   "source": [
    "''' consider a single linked list with insert at end nodes after insertion reverse the node to print\n",
    "input- 11-22-33-44-55-null\n",
    "output- 55-44-33-22-11-null '''\n",
    "class Node:\n",
    "    def __init__(self, data):\n",
    "        self.data = data\n",
    "        self.next = None\n",
    "\n",
    "class LinkedList:\n",
    "    def __init__(self):\n",
    "        self.head = None\n",
    "\n",
    "    def insert_end(self, data):\n",
    "        newnode = Node(data)\n",
    "        if not self.head:\n",
    "            self.head = newnode\n",
    "            return\n",
    "        current = self.head\n",
    "        while current.next:\n",
    "            current = current.next\n",
    "        current.next = newnode\n",
    "\n",
    "    def reverse(self):\n",
    "        prev = None\n",
    "        current = self.head\n",
    "        while current:\n",
    "            nextnode = current.next\n",
    "            current.next = prev\n",
    "            prev = current\n",
    "            current = nextnode\n",
    "        self.head = prev\n",
    "\n",
    "    def display(self):\n",
    "        current = self.head\n",
    "        while current:\n",
    "            print(current.data, end=\",\")\n",
    "            current = current.next\n",
    "        print(\"null\")\n",
    "# Usage\n",
    "ll = LinkedList()\n",
    "for val in [11, 22, 33, 44, 55]:\n",
    "    ll.insert_end(val)\n",
    "print(\"Original list:\")\n",
    "ll.display()\n",
    "ll.reverse()\n",
    "print(\"Reversed list:\")\n",
    "ll.display()"
   ]
  }
 ],
 "metadata": {
  "kernelspec": {
   "display_name": "Python 3 (ipykernel)",
   "language": "python",
   "name": "python3"
  },
  "language_info": {
   "codemirror_mode": {
    "name": "ipython",
    "version": 3
   },
   "file_extension": ".py",
   "mimetype": "text/x-python",
   "name": "python",
   "nbconvert_exporter": "python",
   "pygments_lexer": "ipython3",
   "version": "3.12.7"
  }
 },
 "nbformat": 4,
 "nbformat_minor": 5
}
