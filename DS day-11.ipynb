{
 "cells": [
  {
   "cell_type": "code",
   "execution_count": null,
   "id": "3f363076",
   "metadata": {},
   "outputs": [],
   "source": [
    "'''\n",
    "double Linked List:\n",
    "operations\n",
    "1.insertion - at begin, end, position\n",
    "2.deletion - by value\n",
    "3.traversal - forward / backward\n",
    "head<-->node1<-->node2<-->node3<-->null\n",
    "\n",
    "node:\n",
    "class node:\n",
    "    def __init__(self,data):\n",
    "        self.data=data\n",
    "        self.next=None\n",
    "        self.prev=None\n",
    "        \n",
    "'''"
   ]
  },
  {
   "cell_type": "code",
   "execution_count": 5,
   "id": "6c9ded4d",
   "metadata": {},
   "outputs": [
    {
     "name": "stdout",
     "output_type": "stream",
     "text": [
      "Enter the number of elements to insert at end: 4\n",
      "Enter element1:14\n",
      "Enter element2:28\n",
      "Enter element3:65\n",
      "Enter element4:9\n",
      "Doubly Linked List:\n",
      "14<->28<->65<->9<->None\n"
     ]
    }
   ],
   "source": [
    "# at the end insertion on Double Linked List(DLL)\n",
    "\n",
    "class Node:\n",
    "    def __init__(self, data):\n",
    "        self.data = data\n",
    "        self.prev = None\n",
    "        self.next = None\n",
    "class DoublyLinkedList:\n",
    "    def __init__(self):\n",
    "        self.head = None\n",
    "        \n",
    "    def iae(self, data): # Insert At End\n",
    "        newnode = Node(data)\n",
    "        if self.head is None:\n",
    "            self.head=newnode\n",
    "            return\n",
    "        temp= self.head\n",
    "        while temp.next:\n",
    "            temp=temp.next\n",
    "        temp.next=newnode\n",
    "        newnode.prev=temp\n",
    "        \n",
    "    def display(self):\n",
    "        temp=self.head\n",
    "        print(\"Doubly Linked List:\")\n",
    "        while temp:\n",
    "            print(temp.data, end=\"<->\")\n",
    "            temp=temp.next\n",
    "        print(\"None\")\n",
    "        \n",
    "dll=DoublyLinkedList()\n",
    "n = int(input(\"Enter the number of elements to insert at end: \"))\n",
    "for i in range(n):\n",
    "    val=int(input(f\"Enter element{i+1}:\"))\n",
    "    dll.iae(val)\n",
    "dll.display()\n"
   ]
  },
  {
   "cell_type": "code",
   "execution_count": 12,
   "id": "644343ac",
   "metadata": {},
   "outputs": [
    {
     "name": "stdout",
     "output_type": "stream",
     "text": [
      "Enter the number of elements to insert at beginning: 4\n",
      "Enter element1: 4\n",
      "Enter element2: 9\n",
      "Enter element3: 7\n",
      "Enter element4: 6\n",
      "Doubly Linked List:\n",
      "6<->7<->9<->4<->None\n"
     ]
    }
   ],
   "source": [
    "# insertion at beginning on Double Linked List(DLL)\n",
    "class Node:\n",
    "    def __init__(self, data):\n",
    "        self.data = data\n",
    "        self.prev = None\n",
    "        self.next = None\n",
    "\n",
    "class DoublyLinkedList:\n",
    "    def __init__(self):\n",
    "        self.head = None\n",
    "\n",
    "    def iab(self, data):  # Insert At Beginning\n",
    "        newnode = Node(data)\n",
    "        newnode.next = self.head\n",
    "        if self.head:\n",
    "            self.head.prev= newnode\n",
    "        self.head = newnode\n",
    "\n",
    "    def display(self):\n",
    "        temp = self.head\n",
    "        print(\"Doubly Linked List:\")\n",
    "        while temp:\n",
    "            print(temp.data, end=\"<->\")\n",
    "            temp = temp.next\n",
    "        print(\"None\")\n",
    "\n",
    "# Example usage\n",
    "\n",
    "dll = DoublyLinkedList()\n",
    "n = int(input(\"Enter the number of elements to insert at beginning: \"))\n",
    "for i in range(n):\n",
    "    val = int(input(f\"Enter element{i+1}: \"))\n",
    "    dll.iab(val)  # Call insertion at beginning here\n",
    "dll.display()\n",
    "\n"
   ]
  },
  {
   "cell_type": "code",
   "execution_count": 4,
   "id": "8fac04a0",
   "metadata": {},
   "outputs": [
    {
     "name": "stdout",
     "output_type": "stream",
     "text": [
      "Enter the number of elements to insert at position: 4\n",
      "Enter element 1: 99\n",
      "Enter the position to insert 99:1\n",
      "Enter element 2: 88\n",
      "Enter the position to insert 88:2\n",
      "Enter element 3: 7\n",
      "Enter the position to insert 7:3\n",
      "Enter element 4: 6\n",
      "Enter the position to insert 6:4\n",
      "Doubly Linked List:\n",
      "99<->88<->7<->6<->100<->None\n"
     ]
    }
   ],
   "source": [
    "# insertion at position on Double Linked List(DLL)\n",
    "class Node:\n",
    "    def __init__(self, data):\n",
    "        self.data = data\n",
    "        self.prev = None\n",
    "        self.next = None\n",
    "\n",
    "class DoublyLinkedList:\n",
    "    def __init__(self):\n",
    "        self.head = None\n",
    "\n",
    "    def iap(self,pos, data):  # Insert At position\n",
    "        newnode = Node(data)\n",
    "        if pos<=0:\n",
    "            print(\"Invalid position\")\n",
    "            return\n",
    "        if pos==1:\n",
    "            newnode.next=self.head\n",
    "            if self.head:\n",
    "                self.head.prev = newnode\n",
    "            self.head = newnode\n",
    "            return\n",
    "        temp=self.head\n",
    "        for _ in range(pos-2):\n",
    "            if temp is None:\n",
    "                print(\"Position off range\")\n",
    "                return\n",
    "            temp=temp.next\n",
    "        if temp is None:\n",
    "            print(\"no elements ....\")\n",
    "            return\n",
    "        newnode.next = temp.next\n",
    "        newnode.prev = temp\n",
    "        if temp.next:\n",
    "            temp.next.prev = newnode\n",
    "        temp.next = newnode\n",
    "            \n",
    "        \n",
    "    def display(self):\n",
    "        temp = self.head\n",
    "        print(\"Doubly Linked List:\")\n",
    "        while temp:\n",
    "            print(temp.data, end=\"<->\")\n",
    "            temp = temp.next\n",
    "        print(\"None\")\n",
    "\n",
    "# Example usage\n",
    "\n",
    "dll = DoublyLinkedList()\n",
    "dll.iap(1,100)\n",
    "n = int(input(\"Enter the number of elements to insert at position: \"))\n",
    "for i in range(n):\n",
    "    val = int(input(f\"Enter element {i+1}: \"))\n",
    "    pos = int(input(f\"Enter the position to insert {val}:\"))\n",
    "    dll.iap(pos,val)  # Call insertion at position here\n",
    "dll.display()\n",
    "\n"
   ]
  },
  {
   "cell_type": "code",
   "execution_count": null,
   "id": "8df16520",
   "metadata": {},
   "outputs": [],
   "source": [
    " "
   ]
  },
  {
   "cell_type": "code",
   "execution_count": null,
   "id": "9a993805",
   "metadata": {},
   "outputs": [],
   "source": []
  }
 ],
 "metadata": {
  "kernelspec": {
   "display_name": "Python 3 (ipykernel)",
   "language": "python",
   "name": "python3"
  },
  "language_info": {
   "codemirror_mode": {
    "name": "ipython",
    "version": 3
   },
   "file_extension": ".py",
   "mimetype": "text/x-python",
   "name": "python",
   "nbconvert_exporter": "python",
   "pygments_lexer": "ipython3",
   "version": "3.11.3"
  }
 },
 "nbformat": 4,
 "nbformat_minor": 5
}
