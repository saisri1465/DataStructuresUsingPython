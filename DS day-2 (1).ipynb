{
 "cells": [
  {
   "cell_type": "code",
   "execution_count": null,
   "id": "97b4d714-c598-4d1a-bb99-11d048898c14",
   "metadata": {
    "panel-layout": {
     "height": 102.55681610107422,
     "visible": true,
     "width": 100
    }
   },
   "outputs": [],
   "source": [
    "''' # Jump Search\n",
    "1. size n/sorted\n",
    "2. create a block key\n",
    "3. search operation will be performed arr[m] < var/key < arr(k+1)[m]\n",
    "4. compare each jump linearly '''"
   ]
  },
  {
   "cell_type": "code",
   "execution_count": 5,
   "id": "a3231056-e412-47c7-8cef-91551d504b1f",
   "metadata": {},
   "outputs": [
    {
     "name": "stdout",
     "output_type": "stream",
     "text": [
      "Element 7 found at index: 3 \n"
     ]
    }
   ],
   "source": [
    "import math\n",
    "def jump_search(arr, target):\n",
    "    if not arr:\n",
    "        return -1\n",
    "    n=len(arr)\n",
    "    step=int(math.sqrt(n))\n",
    "    prev=0\n",
    "    while prev<n and arr[prev]<target:\n",
    "        prev+=step\n",
    "    for i in range(max(0, prev-step), min(n, prev+1)):\n",
    "        if arr[i]==target:\n",
    "            return i\n",
    "    return -1\n",
    "arr=[1,3,5,7,8,9,11]\n",
    "target = 7\n",
    "result = jump_search(arr, target)\n",
    "print(f\"Element {target} found at index: {result} \")"
   ]
  },
  {
   "cell_type": "code",
   "execution_count": null,
   "id": "34c88348-a16b-414d-831c-bf134489d09e",
   "metadata": {},
   "outputs": [],
   "source": [
    "''' # Exponential search\n",
    "1. sorted numbers searching\n",
    "2. check the array !=0m\n",
    "3. check the first element\n",
    "4. find the range using expo\n",
    "while for boundary \n",
    "identify within boundary\n",
    "5. range perform binary search\n",
    "6. return result \n",
    "'''"
   ]
  },
  {
   "cell_type": "code",
   "execution_count": 24,
   "id": "373e1b60-38b3-4c4d-a8e1-32efe6e7cf10",
   "metadata": {},
   "outputs": [
    {
     "name": "stdout",
     "output_type": "stream",
     "text": [
      "Element 10 found at index:4\n"
     ]
    }
   ],
   "source": [
    "def bsearch_range(arr, target, left, right):\n",
    "    while left<=right:\n",
    "        mid=(left+right)//2\n",
    "        if arr[mid]==target:\n",
    "            return mid\n",
    "        elif arr[mid]<target:\n",
    "            left=mid+1\n",
    "        else:\n",
    "            right=mid-1\n",
    "    return -1\n",
    "def expo_search(arr, target):\n",
    "    if not arr:\n",
    "        return -1\n",
    "    if arr[0]==target:\n",
    "        return 0\n",
    "    n=len(arr) \n",
    "    i=1\n",
    "    while i<n and arr[i]<=target:\n",
    "        i *=2\n",
    "    return bsearch_range(arr, target, i//2, min(i, n-1))\n",
    "arr= [2,4,6,8,10,12,14]\n",
    "target = 10\n",
    "result = expo_search(arr, target)\n",
    "print(f\"Element {target} found at index:{result}\")"
   ]
  },
  {
   "cell_type": "code",
   "execution_count": 22,
   "id": "c1370231-9ba7-45a4-86f7-5ff04ebfc959",
   "metadata": {},
   "outputs": [
    {
     "name": "stdout",
     "output_type": "stream",
     "text": [
      "Element 8 found at index:3\n"
     ]
    }
   ],
   "source": [
    "#Fibonacci search\n",
    "def fibsearch(arr, target):\n",
    "    if not arr:\n",
    "        return -1\n",
    "    n=len(arr) # initialize fib num\n",
    "    fib2=0\n",
    "    fib1=1\n",
    "    fib=fib1+fib2\n",
    "    while fib<n: # smallest fib >= n\n",
    "        fib2=fib1\n",
    "        fib1=fib\n",
    "        fib=fib1+fib2\n",
    "    offset= -1 # initialize offset\n",
    "    while fib>1: # searching using f(0)...f(n) \n",
    "        i= min(offset +fib2, n-1)\n",
    "        if arr[i]== target:\n",
    "            return i\n",
    "        elif arr[i]<target:\n",
    "            offset=i\n",
    "            fib=fib1\n",
    "            fib1=fib2\n",
    "            fib2=fib-fib1\n",
    "        else:\n",
    "            fib=fib2\n",
    "            fib1=fib1-fib2\n",
    "            fib2=fib-fib1\n",
    "    if fib==-1 and offset+1<n and arr[offset+1]==target:\n",
    "        return offset+1\n",
    "    return -1      \n",
    "arr= [2,4,6,8,10,12,14]\n",
    "target = 8\n",
    "result = fibsearch(arr, target)\n",
    "print(f\"Element {target} found at index:{result}\")"
   ]
  },
  {
   "cell_type": "code",
   "execution_count": null,
   "id": "486512f6-1fda-4350-b962-7cbc00a68a02",
   "metadata": {},
   "outputs": [],
   "source": []
  }
 ],
 "metadata": {
  "kernelspec": {
   "display_name": "Python 3 (ipykernel)",
   "language": "python",
   "name": "python3"
  },
  "language_info": {
   "codemirror_mode": {
    "name": "ipython",
    "version": 3
   },
   "file_extension": ".py",
   "mimetype": "text/x-python",
   "name": "python",
   "nbconvert_exporter": "python",
   "pygments_lexer": "ipython3",
   "version": "3.12.7"
  },
  "panel-cell-order": [
   "97b4d714-c598-4d1a-bb99-11d048898c14"
  ]
 },
 "nbformat": 4,
 "nbformat_minor": 5
}
