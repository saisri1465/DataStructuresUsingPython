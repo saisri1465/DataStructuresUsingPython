{
 "cells": [
  {
   "cell_type": "code",
   "execution_count": null,
   "id": "0fe90775-aee9-4e6c-bd81-b908fc9f7ac9",
   "metadata": {},
   "outputs": [],
   "source": [
    "''' \n",
    "# Sorting Techniques\n",
    "selection\n",
    "insertion\n",
    "bubble\n",
    "quick\n",
    "counting\n",
    "radix\n",
    "heap \n",
    "'''"
   ]
  },
  {
   "cell_type": "code",
   "execution_count": null,
   "id": "ec7365ec-9629-4ead-8ed3-df094d6b3103",
   "metadata": {},
   "outputs": [],
   "source": [
    "''' # selection sort \n",
    "# Algorithm steps\n",
    "1. select lowest value\n",
    "2. swap with minimal value\n",
    "3. check next lowest swap with i[0]+1 \n",
    "            [or]\n",
    "1. start from the first element in the list/array\n",
    "2. arr[0] = min \n",
    "3. compare with all the remaining elements to find the real lowest element\n",
    "4. perform swapping with current position\n",
    "5. repeat the same with adding positional values for each, minimum check\n",
    "\n",
    "# Pseudocode\n",
    "for -> 0 to n-1:\n",
    "        min=i\n",
    "        for j -> i+1 to n:\n",
    "                if arr[j] < arr[min)\n",
    "                        swap\n",
    "min=i+1\n",
    "Time complexity -> O(n^2)\n",
    "Best Time complexity -> O(1)\n",
    "'''"
   ]
  },
  {
   "cell_type": "code",
   "execution_count": 13,
   "id": "063c5d0d-b3c0-4b42-b3d4-f6a6c81eb4ce",
   "metadata": {},
   "outputs": [
    {
     "name": "stdin",
     "output_type": "stream",
     "text": [
      "Enter the number of elements: 5\n"
     ]
    },
    {
     "name": "stdout",
     "output_type": "stream",
     "text": [
      "Enter 5 elements\n"
     ]
    },
    {
     "name": "stdin",
     "output_type": "stream",
     "text": [
      " 28\n",
      " 14\n",
      " 65\n",
      " 27\n",
      " 19\n"
     ]
    },
    {
     "name": "stdout",
     "output_type": "stream",
     "text": [
      "Sorted array [14, 19, 27, 28, 65]\n"
     ]
    }
   ],
   "source": [
    "# Selection sort\n",
    "def selection_sort(arr):\n",
    "    n=len(arr)\n",
    "    for i in range(n):\n",
    "        min_index=i\n",
    "        for j in range(i+1, n):\n",
    "            if arr[j]<arr[min_index]:\n",
    "                min_index=j\n",
    "        arr[i],arr[min_index]=arr[min_index],arr[i]\n",
    "    return arr\n",
    "size=int(input(\"Enter the number of elements:\"))\n",
    "arr=[]\n",
    "print(\"Enter\", size,\"elements\")\n",
    "for  _ in range(size):\n",
    "   num=int(input())\n",
    "   arr.append(num)\n",
    "result=selection_sort(arr)\n",
    "print(\"Sorted array\", result)\n"
   ]
  },
  {
   "cell_type": "code",
   "execution_count": null,
   "id": "0acc85a9-7935-4f7b-9e25-7b743ca14be7",
   "metadata": {},
   "outputs": [],
   "source": [
    "''' # Insertion sort\n",
    "# Algorithm steps\n",
    "1. start from the second element (i=1)\n",
    "2. previous index valued element check \n",
    "3. shift larger element one position to the right\n",
    "4. insert te current element in the correct position\n",
    "5. repeat until list sorted \n",
    "\n",
    "#  Pseudocode\n",
    "for -> 1 to n-1:\n",
    "      key = arr[i]\n",
    "      j=i-1\n",
    "      while j>=0 and arr[j]>key\n",
    "              arr[j+1]= arr[j]\n",
    "              j-=1\n",
    "      arr[j+1]=key\n",
    "'''"
   ]
  },
  {
   "cell_type": "code",
   "execution_count": 15,
   "id": "25bbf45b-8fab-4bf1-8019-54b0fe8b933b",
   "metadata": {},
   "outputs": [
    {
     "name": "stdin",
     "output_type": "stream",
     "text": [
      "Enter the number of elements: 4\n"
     ]
    },
    {
     "name": "stdout",
     "output_type": "stream",
     "text": [
      "Enter 4 elements\n"
     ]
    },
    {
     "name": "stdin",
     "output_type": "stream",
     "text": [
      " 8\n",
      " 5\n",
      " 3\n",
      " 6\n"
     ]
    },
    {
     "name": "stdout",
     "output_type": "stream",
     "text": [
      "Sorted array [3, 5, 6, 8]\n"
     ]
    }
   ],
   "source": [
    " # Insertion sort\n",
    "def insertion_sort(arr):\n",
    "    for i in range(1, len(arr)):\n",
    "        key = arr[i]\n",
    "        j=i-1\n",
    "        while j>=0 and arr[j]>key:\n",
    "            arr[j+1]= arr[j]\n",
    "            j-=1\n",
    "        arr[j+1]=key\n",
    "    return arr\n",
    "size=int(input(\"Enter the number of elements:\"))\n",
    "arr=[]\n",
    "print(\"Enter\", size,\"elements\")\n",
    "for  _ in range(size):\n",
    "   num=int(input())\n",
    "   arr.append(num)\n",
    "result=insertion_sort(arr)\n",
    "print(\"Sorted array\", result)"
   ]
  },
  {
   "cell_type": "code",
   "execution_count": 3,
   "id": "dd9ef121-5d97-4fdd-b9cb-a43847452859",
   "metadata": {},
   "outputs": [
    {
     "name": "stdin",
     "output_type": "stream",
     "text": [
      "Enter the number of elements: 5\n"
     ]
    },
    {
     "name": "stdout",
     "output_type": "stream",
     "text": [
      "Enter 5 elements\n"
     ]
    },
    {
     "name": "stdin",
     "output_type": "stream",
     "text": [
      " watermelon\n",
      " sapota\n",
      " mango\n",
      " grapes\n",
      " jackfruit\n"
     ]
    },
    {
     "name": "stdout",
     "output_type": "stream",
     "text": [
      "Sorted array ['mango', 'sapota', 'grapes', 'jackfruit', 'watermelon']\n"
     ]
    }
   ],
   "source": [
    " # Insertion sort\n",
    "def insertion_sort(arr):\n",
    "    for i in range(1, len(arr)):\n",
    "        key = arr[i]\n",
    "        j=i-1\n",
    "        while j>=0 and len(arr[j])>len(key) :\n",
    "            arr[j+1]= arr[j]\n",
    "            j-=1\n",
    "        arr[j+1]=key\n",
    "    return arr\n",
    "size=int(input(\"Enter the number of elements:\"))\n",
    "arr=[]\n",
    "print(\"Enter\", size,\"elements\")\n",
    "for  _ in range(size):\n",
    "   name=(input())\n",
    "   arr.append(name)\n",
    "result=insertion_sort(arr)\n",
    "print(\"Sorted array\", result)"
   ]
  },
  {
   "cell_type": "code",
   "execution_count": 19,
   "id": "bfbc0896-4a88-4247-8f87-8e8a88b57f77",
   "metadata": {},
   "outputs": [
    {
     "name": "stdin",
     "output_type": "stream",
     "text": [
      "Enter a string sai\n"
     ]
    },
    {
     "name": "stdout",
     "output_type": "stream",
     "text": [
      "['s', 'a', 'i']\n",
      "['a', 'i', 's']\n",
      "Sorted characters: ais\n"
     ]
    }
   ],
   "source": [
    " # Insertion sort\n",
    "def insertion_sort(arr):\n",
    "    for i in range(1, len(arr)):\n",
    "        key = arr[i]\n",
    "        j=i-1\n",
    "        while j>=0 and arr[j]>key:\n",
    "            arr[j+1]= arr[j]\n",
    "            j-=1\n",
    "        arr[j+1]=key\n",
    "    return arr\n",
    "text=input(\"Enter a string\")\n",
    "ch=list(text)\n",
    "print(ch)\n",
    "sort_chars= insertion_sort(ch)\n",
    "print(ch)\n",
    "print(\"Sorted characters:\", ''.join(ch))"
   ]
  },
  {
   "cell_type": "code",
   "execution_count": null,
   "id": "83d09ed7-858a-4a1b-9dac-6a4acaf1ce48",
   "metadata": {},
   "outputs": [],
   "source": []
  }
 ],
 "metadata": {
  "kernelspec": {
   "display_name": "Python 3 (ipykernel)",
   "language": "python",
   "name": "python3"
  },
  "language_info": {
   "codemirror_mode": {
    "name": "ipython",
    "version": 3
   },
   "file_extension": ".py",
   "mimetype": "text/x-python",
   "name": "python",
   "nbconvert_exporter": "python",
   "pygments_lexer": "ipython3",
   "version": "3.12.7"
  }
 },
 "nbformat": 4,
 "nbformat_minor": 5
}
