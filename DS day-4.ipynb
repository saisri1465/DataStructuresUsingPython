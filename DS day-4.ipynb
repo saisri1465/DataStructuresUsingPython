{
 "cells": [
  {
   "cell_type": "code",
   "execution_count": null,
   "id": "c1bb7b2b-54db-4995-be3a-3af4a052df38",
   "metadata": {},
   "outputs": [],
   "source": [
    "''' #Bubble sort \n",
    "Algorithm:\n",
    "1. start from the beginning of the array/list2\n",
    "2. compare each pair to adjacent number\n",
    "3. if latest element is greater than adjacent perform swap\n",
    "4. repeat the process till n-1\n",
    "5. after each cycle/pass, largest unsorted element is would be in correct position\n",
    "6. repeat pass till all the elements are sorted\n",
    "pseudocode:\n",
    "for i ->0 to n-1:\n",
    "for j ->0 t n-i-2:\n",
    "if a[j]>a[j+1]\n",
    "swap(a[j], a[j+1])\n",
    "Time complexity:\n",
    "best case-O(1)\n",
    "worst case-O(n^2)\n",
    "'''"
   ]
  },
  {
   "cell_type": "code",
   "execution_count": 5,
   "id": "1fc6a2d5-27d9-4c3e-9df1-03b3cb36d431",
   "metadata": {},
   "outputs": [
    {
     "name": "stdin",
     "output_type": "stream",
     "text": [
      "Enter the number of elements:  5\n"
     ]
    },
    {
     "name": "stdout",
     "output_type": "stream",
     "text": [
      "Enter the elements:\n"
     ]
    },
    {
     "name": "stdin",
     "output_type": "stream",
     "text": [
      " 5\n",
      " 9\n",
      " 3\n",
      " 7\n",
      " 6\n"
     ]
    },
    {
     "name": "stdout",
     "output_type": "stream",
     "text": [
      "Original list: [5, 9, 3, 7, 6]\n",
      "BubbleSorted: [3, 5, 6, 7, 9]\n"
     ]
    }
   ],
   "source": [
    "#Bubble sort\n",
    "def bubble_sort(arr):\n",
    "    n= len(arr)\n",
    "    for i in range(n):\n",
    "        for j in range(0, n-i-1):\n",
    "            if arr[j] > arr[j+1]:\n",
    "                arr[j], arr[j+1]= arr[j+1], arr[j]\n",
    "size= int(input(\"Enter the number of elements: \"))\n",
    "arr=[]\n",
    "print(\"Enter the elements:\")\n",
    "for _ in range(size):\n",
    "    arr.append(int(input()))\n",
    "print(\"Original list:\", arr)\n",
    "bubble_sort(arr)\n",
    "print(\"BubbleSorted:\", arr)"
   ]
  },
  {
   "cell_type": "code",
   "execution_count": null,
   "id": "3527cd9c-2077-4128-ab30-9446135256bd",
   "metadata": {},
   "outputs": [],
   "source": [
    "''' #counting sort\n",
    "if a[j]>a[j+1]\n",
    "swap(a[j], a[j+1])\n",
    "non-comparison sort\n",
    "1. no -ve numbrs\n",
    "2. no -long numbers\n",
    "3. short confined numbers only ex: 0-100\n",
    "Algorithm:\n",
    "1. find max min of array\n",
    "2. min!<0\n",
    "3. create a count array to stre frequency of numbers\n",
    "4. modify the count array for each element to be stored the sum of previous counts\n",
    "5. place the output array back to the original array\n",
    "pseudocode:\n",
    "countsort (arr, n):\n",
    "1. find the max in arr \n",
    "2. create count(0-max)\n",
    "3. for i -> 0 to n-1:\n",
    "count[a[i]] +=1\n",
    "4. for i -> 1 to max_val:\n",
    "count[i]+= count[i-1]\n",
    "create output arr[n]\n",
    "5. for i->n-1 to 0:\n",
    "output[count[a[i]]-1]= a[i]\n",
    "count[a[i]]-=1\n",
    "copy output to arr\n",
    "'''"
   ]
  },
  {
   "cell_type": "code",
   "execution_count": 11,
   "id": "c3448b89-7407-41a3-95aa-145268e19fe5",
   "metadata": {},
   "outputs": [
    {
     "name": "stdout",
     "output_type": "stream",
     "text": [
      "Before: [4, 2, 2, 8, 3, 3, 1]\n",
      "After: [1, 2, 2, 3, 3, 4, 8]\n"
     ]
    }
   ],
   "source": [
    "def csort(arr):\n",
    "    if not arr:\n",
    "        return []\n",
    "    max_val=max(arr)\n",
    "    count=[0]*(max_val+1)\n",
    "    #freq\n",
    "    for num in arr:\n",
    "        count[num]+=1\n",
    "    # count\n",
    "    for i in range(1, len(count)):\n",
    "        count[i]+= count[i-1]\n",
    "    output= [0] * len(arr)\n",
    "    # stable sort\n",
    "    for num in reversed(arr):\n",
    "        output[count[num]-1]= num\n",
    "        count[num] -=1\n",
    "    #coping sorted list\n",
    "    for i in range(len(arr)):\n",
    "        arr[i]= output[i]\n",
    "arr=[4,2,2,8,3,3,1]\n",
    "print(\"Before:\", arr)\n",
    "csort(arr)\n",
    "print(\"After:\", arr)"
   ]
  },
  {
   "cell_type": "code",
   "execution_count": null,
   "id": "7f209225-f418-4cac-b15d-6e2692ec9d61",
   "metadata": {},
   "outputs": [],
   "source": []
  }
 ],
 "metadata": {
  "kernelspec": {
   "display_name": "Python 3 (ipykernel)",
   "language": "python",
   "name": "python3"
  },
  "language_info": {
   "codemirror_mode": {
    "name": "ipython",
    "version": 3
   },
   "file_extension": ".py",
   "mimetype": "text/x-python",
   "name": "python",
   "nbconvert_exporter": "python",
   "pygments_lexer": "ipython3",
   "version": "3.12.7"
  }
 },
 "nbformat": 4,
 "nbformat_minor": 5
}
