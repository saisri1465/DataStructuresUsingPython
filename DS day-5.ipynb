{
 "cells": [
  {
   "cell_type": "code",
   "execution_count": 1,
   "id": "d6fae973-dd97-4267-a396-2ce7fac7f344",
   "metadata": {},
   "outputs": [
    {
     "name": "stdin",
     "output_type": "stream",
     "text": [
      "Enter single word sailakshmisri\n"
     ]
    },
    {
     "name": "stdout",
     "output_type": "stream",
     "text": [
      "Original string: sailakshmisri\n",
      "Sorted string: aahiiiklmrsss\n"
     ]
    }
   ],
   "source": [
    "#count sort using lower strings\n",
    "def csortString(s):\n",
    "    count = [0]*26\n",
    "    for char in s:\n",
    "        count[ord(char)-ord('a')]+=1\n",
    "    sorted_str= ''\n",
    "    for i in range(26):\n",
    "        sorted_str+= chr(i+ord('a')) * count[i]\n",
    "    return sorted_str\n",
    "name = input(\"Enter single word\")\n",
    "sorted_name = csortString(name)\n",
    "print(\"Original string:\", name)\n",
    "print(\"Sorted string:\", sorted_name)"
   ]
  },
  {
   "cell_type": "code",
   "execution_count": 7,
   "id": "dede0c42-3293-4fd4-848e-ea873015efaf",
   "metadata": {},
   "outputs": [
    {
     "name": "stdin",
     "output_type": "stream",
     "text": [
      "Enter single word SAILAKSHMISRI\n"
     ]
    },
    {
     "name": "stdout",
     "output_type": "stream",
     "text": [
      "Original string: SAILAKSHMISRI\n",
      "Sorted string: AAHIIIKLMRSSS\n"
     ]
    }
   ],
   "source": [
    "#count sort using upper strings\n",
    "def csortString(s):\n",
    "    count = [0]*26\n",
    "    for char in s:\n",
    "        count[ord(char)-ord('A')]+=1\n",
    "    sorted_str= ''\n",
    "    for i in range(26):\n",
    "        sorted_str+= chr(i+ord('A')) * count[i]\n",
    "    return sorted_str\n",
    "name = input(\"Enter single word\")\n",
    "sorted_name = csortString(name)\n",
    "print(\"Original string:\", name)\n",
    "print(\"Sorted string:\", sorted_name)"
   ]
  },
  {
   "cell_type": "code",
   "execution_count": null,
   "id": "7c4fdd35-ead8-475e-a713-9c77c776b1f3",
   "metadata": {},
   "outputs": [],
   "source": [
    "'''# radix sort\n",
    "1. find the maximum number to determine number of digits.\n",
    "2. select 10^0, for digit position\n",
    "3. increment digit position, with respective to pass\n",
    "4. loop -> maxnum//exp>0\n",
    "perform count sort based on current digit (num//exp)%10 \n",
    "multiply exp by 10\n",
    "'''"
   ]
  },
  {
   "cell_type": "code",
   "execution_count": 15,
   "id": "d5cdddeb-5476-4c13-8d1b-e9390d9dc988",
   "metadata": {},
   "outputs": [
    {
     "name": "stdout",
     "output_type": "stream",
     "text": [
      "Before sort [170, 45, 90, 802, 24, 2, 66]\n",
      "After sort [2, 24, 45, 66, 90, 170, 802]\n"
     ]
    }
   ],
   "source": [
    "#radix sort or bucket sort\n",
    "def count_sort(arr, exp):\n",
    "    n= len(arr)\n",
    "    output= [0]*n\n",
    "    count= [0] * 10  # 0->9 empty buckets for count of digits\n",
    "    for i in range(n):     # frequencies of unique position of numbers\n",
    "        index= (arr[i]//exp)%10\n",
    "        count[index]+=1\n",
    "    for i in range(1, 10):\n",
    "        count[i]+=count[i-1]\n",
    "    i=n-1\n",
    "    while i>=0:\n",
    "        index= (arr[i]//exp)%10\n",
    "        output[count[index]-1]= arr[i]\n",
    "        count[index]-=1\n",
    "        i-=1\n",
    "    for i in range(n):\n",
    "        arr[i]=output[i]\n",
    "def radix_sort(arr):\n",
    "    max_num= max(arr)\n",
    "    exp=1\n",
    "    while max_num // exp>0:\n",
    "        count_sort(arr, exp)\n",
    "        exp *=10\n",
    "arr=[170, 45, 90, 802, 24, 2, 66]\n",
    "print(\"Before sort\", arr)\n",
    "radix_sort(arr)\n",
    "print(\"After sort\", arr)"
   ]
  }
 ],
 "metadata": {
  "kernelspec": {
   "display_name": "Python 3 (ipykernel)",
   "language": "python",
   "name": "python3"
  },
  "language_info": {
   "codemirror_mode": {
    "name": "ipython",
    "version": 3
   },
   "file_extension": ".py",
   "mimetype": "text/x-python",
   "name": "python",
   "nbconvert_exporter": "python",
   "pygments_lexer": "ipython3",
   "version": "3.12.7"
  }
 },
 "nbformat": 4,
 "nbformat_minor": 5
}
