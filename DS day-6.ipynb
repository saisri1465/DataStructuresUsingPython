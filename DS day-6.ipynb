{
 "cells": [
  {
   "cell_type": "code",
   "execution_count": null,
   "id": "bbd7e8de-7fda-418b-ae8a-d49587dc65c9",
   "metadata": {},
   "outputs": [],
   "source": [
    "''' # pan cake\n",
    "algorithm\n",
    "1. start complete array and decrease the size (n-1)\n",
    "2. for each size:\n",
    "a. find the index of max element\n",
    "b. flip the array with max element index\n",
    "c. flip the total array to the current size\n",
    "max->move to the end of the array\n",
    "3. repeat step1 by n-2, n-3....\n",
    "for nth reduced element perform step2 until\n",
    "0th index value respectively..\n",
    "'''"
   ]
  },
  {
   "cell_type": "code",
   "execution_count": 7,
   "id": "9cf1d950-9f9f-4138-a3d9-ac878641a283",
   "metadata": {},
   "outputs": [
    {
     "name": "stdin",
     "output_type": "stream",
     "text": [
      "Enter numbers separated with space:  8 5 7 9 3 \n"
     ]
    },
    {
     "name": "stdout",
     "output_type": "stream",
     "text": [
      " Flip at 4: [9, 7, 5, 8, 3]\n",
      " Flip at 5: [3, 8, 5, 7, 9]\n",
      " Flip at 2: [8, 3, 5, 7, 9]\n",
      " Flip at 4: [7, 5, 3, 8, 9]\n",
      " Flip at 3: [3, 5, 7, 8, 9]\n",
      "Sorted [3, 5, 7, 8, 9]\n"
     ]
    }
   ],
   "source": [
    "#arr=[88, , 0, 5]\n",
    "def flip(arr, k):\n",
    "    return arr[:k+1][::-1]+ arr[k+1:]\n",
    "def pancake(arr):\n",
    "    n=len(arr)\n",
    "    for size in range(n, 1, -1):\n",
    "        max_index=arr.index(max(arr[:size]))\n",
    "        if max_index != size-1:\n",
    "            if max_index != 0:\n",
    "                arr= flip(arr, max_index)\n",
    "                print(f\" Flip at {max_index+1}: {arr}\")\n",
    "            arr= flip(arr, size-1)\n",
    "            print(f\" Flip at {size}: {arr}\")\n",
    "    return arr\n",
    "nums= list(map(int, input(\"Enter numbers separated with space: \").split()))\n",
    "sorted_nums= pancake(nums)\n",
    "print(\"Sorted\", sorted_nums)"
   ]
  }
 ],
 "metadata": {
  "kernelspec": {
   "display_name": "Python 3 (ipykernel)",
   "language": "python",
   "name": "python3"
  },
  "language_info": {
   "codemirror_mode": {
    "name": "ipython",
    "version": 3
   },
   "file_extension": ".py",
   "mimetype": "text/x-python",
   "name": "python",
   "nbconvert_exporter": "python",
   "pygments_lexer": "ipython3",
   "version": "3.12.7"
  }
 },
 "nbformat": 4,
 "nbformat_minor": 5
}
