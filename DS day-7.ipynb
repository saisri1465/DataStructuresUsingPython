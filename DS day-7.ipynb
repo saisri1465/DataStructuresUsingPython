{
 "cells": [
  {
   "cell_type": "markdown",
   "id": "c7fe70d4-d7d4-4005-91ee-64feb34e8240",
   "metadata": {},
   "source": [
    "File Handling Methods"
   ]
  },
  {
   "cell_type": "code",
   "execution_count": 1,
   "id": "fbf4f155-77a0-4115-a65c-40e710688919",
   "metadata": {},
   "outputs": [
    {
     "name": "stdout",
     "output_type": "stream",
     "text": [
      "Previous:  sai bankuru \n",
      "Latest:  sa\n"
     ]
    }
   ],
   "source": [
    "with open(\"file1.txt\", 'w') as f:\n",
    "    f.write(\" sai bankuru \")\n",
    "with open(\"file1.txt\", 'r+') as f:\n",
    "    data=f.read()\n",
    "    print(\"Previous:\", data)\n",
    "    new_data= data.replace(\"bankuru\", \"sri\")\n",
    "    f.seek(10)\n",
    "    f.write(new_data)\n",
    "    f.truncate(3) \n",
    "with open(\"file1.txt\", 'r') as f:\n",
    "    print(\"Latest:\", f.read())"
   ]
  },
  {
   "cell_type": "code",
   "execution_count": 3,
   "id": "5279fcd3-3edd-4e61-a6d5-5c4e8ff3a2fd",
   "metadata": {},
   "outputs": [
    {
     "name": "stdout",
     "output_type": "stream",
     "text": [
      "Previous:  Hello Students!!!! \n",
      "Latest:  Hello Future IT Employees \n"
     ]
    }
   ],
   "source": [
    "with open(\"file1.txt\", 'w+') as f:\n",
    "    f.write(\" Hello Students!!!! \")\n",
    "    f.seek(0)\n",
    "    data= f.read()\n",
    "    print(\"Previous:\", data)\n",
    "    new_data= data.replace(\"Students!!!!\", \"Future IT Employees\")\n",
    "    f.seek(0)\n",
    "    f.write(new_data)\n",
    "    f.truncate() \n",
    "with open(\"file1.txt\", 'r') as f:\n",
    "    print(\"Latest:\", f.read())"
   ]
  },
  {
   "cell_type": "code",
   "execution_count": 25,
   "id": "d297e6f2-6aa2-4339-8f17-840e89ae4f2a",
   "metadata": {},
   "outputs": [
    {
     "name": "stdout",
     "output_type": "stream",
     "text": [
      "current data:\n",
      " Latest Line appended now....\n"
     ]
    }
   ],
   "source": [
    "with open(\"log.txt\", 'a+') as f:\n",
    "    f.write(\"Latest Line appended now....\")\n",
    "    f.seek(0)\n",
    "    data=f.read()\n",
    "    print(\"current data:\\n\",data)\n",
    "    "
   ]
  },
  {
   "cell_type": "code",
   "execution_count": 27,
   "id": "c0a5b296-7583-48ee-99c3-2a02d788bcb3",
   "metadata": {},
   "outputs": [
    {
     "name": "stdout",
     "output_type": "stream",
     "text": [
      "current data:\n",
      " Latest Line appended now....\n",
      " Latest Line appended now....\n"
     ]
    }
   ],
   "source": [
    "with open(\"log.txt\", 'a+') as f:\n",
    "    f.write(\"\\n Latest Line appended now....\")\n",
    "    f.seek(0)\n",
    "    data=f.read()\n",
    "    print(\"current data:\\n\",data)"
   ]
  },
  {
   "cell_type": "code",
   "execution_count": 45,
   "id": "02882f68-7de3-44ff-bd79-a24d815e5296",
   "metadata": {},
   "outputs": [
    {
     "name": "stdout",
     "output_type": "stream",
     "text": [
      "current data:\n",
      "  5\n",
      "\n",
      " 4\n",
      " 3\n",
      " 2\n",
      " 1\n"
     ]
    }
   ],
   "source": [
    "with open(\"log.txt\", 'a+') as f:\n",
    "    f.write(\"\\n 1\")\n",
    "    f.seek(0)\n",
    "    data=f.read()\n",
    "    print(\"current data:\\n\", data)"
   ]
  },
  {
   "cell_type": "code",
   "execution_count": 47,
   "id": "e32432ca-576a-42fc-827c-7488e40e2bb3",
   "metadata": {},
   "outputs": [],
   "source": [
    "with open(\"log.txt\", 'r') as f:\n",
    "    lines=f.readlines()\n",
    "with open('log.txt', 'w') as f:\n",
    "    for line in lines:\n",
    "        if line.strip() != '5':\n",
    "            f.write(line)"
   ]
  },
  {
   "cell_type": "code",
   "execution_count": 49,
   "id": "2740b34f-3b8a-432b-a267-74b7fabf3cef",
   "metadata": {},
   "outputs": [
    {
     "name": "stdin",
     "output_type": "stream",
     "text": [
      "Enter exact line: 1\n"
     ]
    }
   ],
   "source": [
    "ldel=input(\"Enter exact line:\")\n",
    "with open(\"log.txt\", 'r') as f:\n",
    "    lines=f.readlines()\n",
    "with open('log.txt', 'w') as f:\n",
    "    for line in lines:\n",
    "        if line.strip() !=ldel.strip():\n",
    "            f.write(line)"
   ]
  },
  {
   "cell_type": "code",
   "execution_count": null,
   "id": "2c386324-c74c-42ae-b326-fae260ce609b",
   "metadata": {},
   "outputs": [],
   "source": [
    "'''fileno()\n",
    "flush()\n",
    "isatty()\n",
    "readline()\n",
    "'''"
   ]
  },
  {
   "cell_type": "code",
   "execution_count": 55,
   "id": "1313194a-b633-4570-bab2-8e7eae442f4b",
   "metadata": {},
   "outputs": [
    {
     "name": "stdout",
     "output_type": "stream",
     "text": [
      "3\n"
     ]
    }
   ],
   "source": [
    "#fileno()\n",
    "f= open(\"file.txt\", 'w')\n",
    "print(f.fileno())\n",
    "f.flush()"
   ]
  },
  {
   "cell_type": "code",
   "execution_count": 57,
   "id": "6bc2f96a-074e-4d04-8114-16173eecd945",
   "metadata": {},
   "outputs": [
    {
     "name": "stdout",
     "output_type": "stream",
     "text": [
      "False\n"
     ]
    }
   ],
   "source": [
    "#fileno()\n",
    "f= open(\"log.txt\", 'w')\n",
    "f.write(\"Hello\")\n",
    "print(f.isatty())"
   ]
  },
  {
   "cell_type": "code",
   "execution_count": null,
   "id": "6beaf50b-ae79-4805-a0d2-638b370d8c29",
   "metadata": {},
   "outputs": [],
   "source": [
    "operating systems"
   ]
  },
  {
   "cell_type": "code",
   "execution_count": 59,
   "id": "01ba3d50-f7b1-4697-8003-998f64de673f",
   "metadata": {},
   "outputs": [
    {
     "name": "stdout",
     "output_type": "stream",
     "text": [
      "Python version: 3.12.7 | packaged by Anaconda, Inc. | (main, Oct  4 2024, 13:17:27) [MSC v.1929 64 bit (AMD64)]\n"
     ]
    }
   ],
   "source": [
    "import sys\n",
    "print(\"Python version:\", sys.version)"
   ]
  },
  {
   "cell_type": "code",
   "execution_count": 61,
   "id": "44891733-b704-4a33-b152-128b1af6e91b",
   "metadata": {},
   "outputs": [
    {
     "name": "stdin",
     "output_type": "stream",
     "text": [
      "Enter age: 20\n"
     ]
    },
    {
     "name": "stdout",
     "output_type": "stream",
     "text": [
      "You are eligible.....\n"
     ]
    }
   ],
   "source": [
    "import sys\n",
    "age= int(input(\"Enter age:\"))\n",
    "if age<18:\n",
    "    print(\"Not eligible to drive....\")\n",
    "    sys.exit()\n",
    "print(\"You are eligible.....\")"
   ]
  },
  {
   "cell_type": "code",
   "execution_count": 65,
   "id": "f7e7d67b-52d0-45cf-92db-299df1493625",
   "metadata": {},
   "outputs": [
    {
     "name": "stdout",
     "output_type": "stream",
     "text": [
      "Platform:  win32\n"
     ]
    }
   ],
   "source": [
    "import sys\n",
    "print(\"Platform: \", sys.platform)"
   ]
  },
  {
   "cell_type": "code",
   "execution_count": null,
   "id": "16e99a6f-68aa-4b50-94e0-ec788e85908f",
   "metadata": {},
   "outputs": [],
   "source": [
    "'''\n",
    "sys.argv------cmd line arg\n",
    "sys.exit()\n",
    "sys.stderr---- error message\n",
    "sys.version\n",
    "sys.platform\n",
    "sys.recursionlimit()\n",
    "sys.stdout---- output redirect\n",
    "'''"
   ]
  }
 ],
 "metadata": {
  "kernelspec": {
   "display_name": "Python 3 (ipykernel)",
   "language": "python",
   "name": "python3"
  },
  "language_info": {
   "codemirror_mode": {
    "name": "ipython",
    "version": 3
   },
   "file_extension": ".py",
   "mimetype": "text/x-python",
   "name": "python",
   "nbconvert_exporter": "python",
   "pygments_lexer": "ipython3",
   "version": "3.12.7"
  }
 },
 "nbformat": 4,
 "nbformat_minor": 5
}
