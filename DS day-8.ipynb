{
 "cells": [
  {
   "cell_type": "code",
   "execution_count": null,
   "id": "4f110c2f",
   "metadata": {},
   "outputs": [],
   "source": [
    "'''\n",
    "# Exception Handling:\n",
    "errors - logical errors / syntax\n",
    "exceptions - sync async\n",
    "4/0 '''"
   ]
  },
  {
   "cell_type": "code",
   "execution_count": 10,
   "id": "886f07be",
   "metadata": {},
   "outputs": [
    {
     "ename": "TypeError",
     "evalue": "can only concatenate str (not \"int\") to str",
     "output_type": "error",
     "traceback": [
      "\u001b[1;31m---------------------------------------------------------------------------\u001b[0m",
      "\u001b[1;31mTypeError\u001b[0m                                 Traceback (most recent call last)",
      "Cell \u001b[1;32mIn[10], line 1\u001b[0m\n\u001b[1;32m----> 1\u001b[0m \u001b[38;5;28mprint\u001b[39m(\u001b[38;5;124m'\u001b[39m\u001b[38;5;124m11\u001b[39m\u001b[38;5;124m'\u001b[39m\u001b[38;5;241m+\u001b[39m\u001b[38;5;241m0\u001b[39m)\n",
      "\u001b[1;31mTypeError\u001b[0m: can only concatenate str (not \"int\") to str"
     ]
    }
   ],
   "source": [
    "print('11'+0)"
   ]
  },
  {
   "cell_type": "code",
   "execution_count": 11,
   "id": "2e91164e",
   "metadata": {},
   "outputs": [
    {
     "ename": "TypeError",
     "evalue": "can only concatenate str (not \"int\") to str",
     "output_type": "error",
     "traceback": [
      "\u001b[1;31m---------------------------------------------------------------------------\u001b[0m",
      "\u001b[1;31mTypeError\u001b[0m                                 Traceback (most recent call last)",
      "Cell \u001b[1;32mIn[11], line 1\u001b[0m\n\u001b[1;32m----> 1\u001b[0m \u001b[38;5;28mprint\u001b[39m(\u001b[38;5;124m\"\u001b[39m\u001b[38;5;124m11\u001b[39m\u001b[38;5;124m\"\u001b[39m\u001b[38;5;241m+\u001b[39m\u001b[38;5;241m0\u001b[39m)\n",
      "\u001b[1;31mTypeError\u001b[0m: can only concatenate str (not \"int\") to str"
     ]
    }
   ],
   "source": [
    "print(\"11\"+0)"
   ]
  },
  {
   "cell_type": "code",
   "execution_count": null,
   "id": "f2b9282b",
   "metadata": {},
   "outputs": [],
   "source": [
    "'''\n",
    "1. Exception - for base classes\n",
    "2. Arithmetic Error - math errors\n",
    "3. ZeroDivision Error - 4/0\n",
    "4. StopIteration - next method or iterator not available/condition not available\n",
    "5. SystemExit - current os exit\n",
    "6. Standard Error - pre defined keywords\n",
    "7. EOF Error - I/O till the end off file\n",
    "8. Import Error - file existing error\n",
    "9. Keyword Interrupt - execution interrupt\n",
    "10. Name Error -\n",
    "11. Value Error - \n",
    "12. Index Error - \n",
    "13. Type Error - \n",
    "14. IO Error - \n",
    "15. Syntax Error - \n",
    "16. Runtime Error - \n",
    "17. Indentation Error - \n",
    "18. Attribute Error - \n",
    "19. Assertion Error - \n",
    "\n",
    "try:\n",
    "        ---------\n",
    "        ---------\n",
    "except -------------:"
   ]
  },
  {
   "cell_type": "code",
   "execution_count": 12,
   "id": "06373412",
   "metadata": {},
   "outputs": [
    {
     "name": "stdout",
     "output_type": "stream",
     "text": [
      "enter numerator: 11\n",
      "enter denominator: 0\n",
      "Cannot divisible by zero\n"
     ]
    }
   ],
   "source": [
    "try :\n",
    "    num1= int(input(\"enter numerator: \"))\n",
    "    num2= int(input(\"enter denominator: \"))\n",
    "    output= num1/num2\n",
    "    print(\"result:\", output)\n",
    "except ZeroDivisionError:\n",
    "    print(\"Cannot divisible by zero\")"
   ]
  },
  {
   "cell_type": "code",
   "execution_count": 13,
   "id": "dcd0c287",
   "metadata": {},
   "outputs": [
    {
     "name": "stdout",
     "output_type": "stream",
     "text": [
      "Enter the file name:abcdef\n",
      "File does not Exist .....\n"
     ]
    }
   ],
   "source": [
    "try:\n",
    "    filename= input(\"Enter the file name:\")\n",
    "    file= open(filename, 'r')\n",
    "    number= int(file.readline())\n",
    "    print(\"Number from file\", number)\n",
    "    file.close()\n",
    "except FileNotFoundError:\n",
    "    print(\"File does not Exist .....\")\n",
    "except ValueError:\n",
    "    print(\"File does not have integer ....\")\n",
    "except:\n",
    "    print(\"Unknown Error ....\")\n"
   ]
  },
  {
   "cell_type": "code",
   "execution_count": 14,
   "id": "865d47be",
   "metadata": {
    "scrolled": true
   },
   "outputs": [
    {
     "name": "stdout",
     "output_type": "stream",
     "text": [
      "Enter a number: 8\n",
      "512\n",
      "Program Terminated ....\n"
     ]
    }
   ],
   "source": [
    "try:\n",
    "    num=int(input(\"Enter a number: \"))\n",
    "    print(num**3)\n",
    "except (keyboardInterrupt, ValueError,TypeError):\n",
    "    print(\"Please check before executing ....\")\n",
    "print(\"Program Terminated ....\")"
   ]
  },
  {
   "cell_type": "code",
   "execution_count": 15,
   "id": "5941f84d",
   "metadata": {},
   "outputs": [
    {
     "name": "stdout",
     "output_type": "stream",
     "text": [
      "Enter a numbersix\n",
      "Enter Positive number only ....\n"
     ]
    }
   ],
   "source": [
    "import math\n",
    "try:\n",
    "    num=int(input(\"Enter a number\"))\n",
    "    if num<0:\n",
    "        raise ValueError(\"Negative number ....\")\n",
    "except ValueError:\n",
    "    print(\"Enter Positive number only ....\")\n",
    "else:\n",
    "    print(\"SquareRoot:\", round(math.sqrt(num), 4))\n",
    "    "
   ]
  },
  {
   "cell_type": "code",
   "execution_count": 16,
   "id": "327f0b28",
   "metadata": {},
   "outputs": [
    {
     "name": "stdout",
     "output_type": "stream",
     "text": [
      "Enter a number: 100\n",
      "100\n",
      "Exception raised intentionally even no use ....\n"
     ]
    }
   ],
   "source": [
    "import math\n",
    "try:\n",
    "    num= int(input(\"Enter a number: \"))\n",
    "    print(num)\n",
    "    raise ValueError\n",
    "except:\n",
    "    print(\"Exception raised intentionally even no use ....\")"
   ]
  },
  {
   "cell_type": "code",
   "execution_count": 5,
   "id": "356e4ee3",
   "metadata": {},
   "outputs": [
    {
     "name": "stdout",
     "output_type": "stream",
     "text": [
      "Enter numerator:13\n",
      "Enter denominator:8\n"
     ]
    }
   ],
   "source": [
    "import datetime\n",
    "try:\n",
    "    x= int(input(\"Enter numerator:\"))\n",
    "    y= int(input(\"Enter denominator:\"))\n",
    "    print(\"Result:\", x/y)\n",
    "except (ZeroDivisionError) as e:\n",
    "    ct= datetime.datetime.now().strftime(\"%Y-%m-%d %H:%M:%S\")\n",
    "    txt= f\"[{ct}] Error: {type(e)} \\n\"\n",
    "    with open(\"data.txt\", 'a') as file:\n",
    "        file.write(txt)\n",
    "except (ValueError) as e:\n",
    "    ct= datetime.datetime.now().strftime(\"%Y-%m-%d %H:%M:%S\")\n",
    "    txt= f\"[{ct}] Error: {type(e)} \\n\"\n",
    "    with open(\"data.txt\", 'a') as file:\n",
    "        file.write(txt)"
   ]
  },
  {
   "cell_type": "code",
   "execution_count": null,
   "id": "6697a9ab",
   "metadata": {},
   "outputs": [],
   "source": []
  }
 ],
 "metadata": {
  "kernelspec": {
   "display_name": "Python 3 (ipykernel)",
   "language": "python",
   "name": "python3"
  },
  "language_info": {
   "codemirror_mode": {
    "name": "ipython",
    "version": 3
   },
   "file_extension": ".py",
   "mimetype": "text/x-python",
   "name": "python",
   "nbconvert_exporter": "python",
   "pygments_lexer": "ipython3",
   "version": "3.11.3"
  }
 },
 "nbformat": 4,
 "nbformat_minor": 5
}
